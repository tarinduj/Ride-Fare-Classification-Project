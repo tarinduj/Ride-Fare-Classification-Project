{
 "cells": [
  {
   "cell_type": "code",
   "execution_count": 1,
   "metadata": {
    "colab": {},
    "colab_type": "code",
    "id": "0JVc_RTC7Dv8"
   },
   "outputs": [],
   "source": [
    "import numpy as np\n",
    "import pandas as pd"
   ]
  },
  {
   "cell_type": "code",
   "execution_count": 2,
   "metadata": {
    "colab": {
     "base_uri": "https://localhost:8080/",
     "height": 640
    },
    "colab_type": "code",
    "id": "Jh4stD3i9n8X",
    "outputId": "8c5c2e45-d9ae-4e53-b397-c20568ccdc0d"
   },
   "outputs": [],
   "source": [
    "train_df = pd.read_csv('../train.csv',index_col=\"tripid\")"
   ]
  },
  {
   "cell_type": "code",
   "execution_count": 3,
   "metadata": {
    "colab": {
     "base_uri": "https://localhost:8080/",
     "height": 282
    },
    "colab_type": "code",
    "id": "YPgNo12c9s5C",
    "outputId": "3b71a187-d1b9-4614-daa9-a7849eb521e1"
   },
   "outputs": [
    {
     "data": {
      "text/plain": [
       "<matplotlib.legend.Legend at 0x120b77090>"
      ]
     },
     "execution_count": 3,
     "metadata": {},
     "output_type": "execute_result"
    },
    {
     "data": {
      "image/png": "[encoded data removed]",
      "text/plain": [
       "<Figure size 432x288 with 1 Axes>"
      ]
     },
     "metadata": {
      "needs_background": "light"
     },
     "output_type": "display_data"
    }
   ],
   "source": [
    "ax = pd.DataFrame({'not null': train_df.count(),\n",
    "                   'null': train_df.isnull().sum()}).plot.barh(stacked=True)\n",
    "\n",
    "ax.legend(\n",
    "    loc='center left', \n",
    "    bbox_to_anchor=(1.05, 0.5)\n",
    ")"
   ]
  },
  {
   "cell_type": "code",
   "execution_count": 4,
   "metadata": {
    "colab": {
     "base_uri": "https://localhost:8080/",
     "height": 282
    },
    "colab_type": "code",
    "id": "4BNRLgwX9xu-",
    "outputId": "6e58ff11-c7f0-4824-b8f6-7d9895e0167f"
   },
   "outputs": [
    {
     "data": {
      "text/plain": [
       "<matplotlib.axes._subplots.AxesSubplot at 0x120733ad0>"
      ]
     },
     "execution_count": 4,
     "metadata": {},
     "output_type": "execute_result"
    },
    {
     "data": {
      "image/png": "[encoded data removed]",
      "text/plain": [
       "<Figure size 432x288 with 1 Axes>"
      ]
     },
     "metadata": {
      "needs_background": "light"
     },
     "output_type": "display_data"
    }
   ],
   "source": [
    "train_df['label'].value_counts().plot.barh()"
   ]
  },
  {
   "cell_type": "code",
   "execution_count": 5,
   "metadata": {
    "colab": {},
    "colab_type": "code",
    "id": "jbTdKXF991AB"
   },
   "outputs": [],
   "source": [
    "from sklearn.preprocessing import label_binarize\n",
    "from sklearn.impute import KNNImputer\n",
    "from sklearn.preprocessing import RobustScaler\n",
    "\n",
    "RANDOM_SEED = 42  "
   ]
  },
  {
   "cell_type": "code",
   "execution_count": 6,
   "metadata": {
    "colab": {},
    "colab_type": "code",
    "id": "p7rCO8W1-Vfc"
   },
   "outputs": [],
   "source": [
    "labels_raw_df = train_df.loc[:, train_df.columns == 'label']\n",
    "features_raw_df = train_df.drop(columns=['label'])"
   ]
  },
  {
   "cell_type": "code",
   "execution_count": 7,
   "metadata": {
    "colab": {},
    "colab_type": "code",
    "id": "utbl_I_s-AG1"
   },
   "outputs": [],
   "source": [
    "def preprocess_labels(input_labels_df):\n",
    "  labels_df = input_labels_df\n",
    "  labels_df = pd.DataFrame(label_binarize(labels_df, classes=['incorrrect', 'correct']))\n",
    "  \n",
    "  labels_df.columns = labels_df.columns\n",
    "  labels_df.index = labels_df.index\n",
    "\n",
    "  return labels_df  "
   ]
  },
  {
   "cell_type": "code",
   "execution_count": 8,
   "metadata": {
    "colab": {},
    "colab_type": "code",
    "id": "VIelf6WF0O1t"
   },
   "outputs": [],
   "source": [
    "labels_df = preprocess_labels(labels_raw_df)"
   ]
  },
  {
   "cell_type": "code",
   "execution_count": 9,
   "metadata": {
    "colab": {},
    "colab_type": "code",
    "id": "epQrAO2J0WCi"
   },
   "outputs": [],
   "source": [
    "def preprocess_features(input_features_df):\n",
    "  features_df = input_features_df.copy()\n",
    "  numeric_cols = features_df.columns[features_df.dtypes != \"object\"].values \n",
    "  non_numeric_cols = features_df.columns[features_df.dtypes == \"object\"].values\n",
    "\n",
    "  #numeric\n",
    "  #scale features\n",
    "  scaler = RobustScaler()\n",
    "  features_df[numeric_cols] = scaler.fit_transform(features_df[numeric_cols])\n",
    "\n",
    "  #impute missing values\n",
    "  imputer = KNNImputer()\n",
    "  features_df[numeric_cols] = imputer.fit_transform(features_df[numeric_cols])\n",
    "\n",
    "  #date time\n",
    "  features_df['pickup_time'] = pd.to_datetime(features_df['pickup_time'])\n",
    "  features_df['drop_time'] = pd.to_datetime(features_df['drop_time'])\n",
    "  \n",
    "  #get day of the week\n",
    "  features_df['pickup_day_of_week'] = features_df['pickup_time'].dt.day_name()\n",
    "  features_df['drop_day_of_week'] = features_df['drop_time'].dt.day_name()\n",
    "  \n",
    "  features_df['pickup_hour_float'] = features_df['pickup_time'].dt.hour + features_df['pickup_time'].dt.minute/60\n",
    "  features_df['drop_hour_float'] = features_df['drop_time'].dt.hour + features_df['drop_time'].dt.minute/60\n",
    "\n",
    "  #encode cyclic 24 hours with sin and cos\n",
    "  features_df['sin_pickup_time'] = np.sin(2*np.pi*features_df.pickup_hour_float/24.)\n",
    "  features_df['cos_pickup_time'] = np.cos(2*np.pi*features_df.pickup_hour_float/24.)\n",
    "\n",
    "  features_df['sin_drop_time'] = np.sin(2*np.pi*features_df.drop_hour_float/24.)\n",
    "  features_df['cos_drop_time'] = np.cos(2*np.pi*features_df.drop_hour_float/24.)\n",
    "\n",
    "  #get weekday or weekend\n",
    "  weekenddays = ['Saturday', 'Sunday']\n",
    "\n",
    "  features_df['pickup_weekday'] = np.where(features_df['pickup_day_of_week'].isin(weekenddays), 0, 1)\n",
    "  features_df['drop_weekday'] = np.where(features_df['drop_day_of_week'].isin(weekenddays), 0, 1)\n",
    "  \n",
    "  features_df = pd.get_dummies(features_df, columns = ['pickup_day_of_week', 'drop_day_of_week'])\n",
    "  \n",
    "  features_df = features_df.drop(columns=['pickup_time','drop_time'])\n",
    "  \n",
    "  return features_df"
   ]
  },
  {
   "cell_type": "code",
   "execution_count": 10,
   "metadata": {
    "colab": {},
    "colab_type": "code",
    "id": "nhMgLx9o1DDc"
   },
   "outputs": [],
   "source": [
    "features_df = preprocess_features(features_raw_df)"
   ]
  },
  {
   "cell_type": "code",
   "execution_count": 11,
   "metadata": {
    "colab": {},
    "colab_type": "code",
    "id": "d6ut0tUDF-xR"
   },
   "outputs": [],
   "source": [
    "test_features_raw_df = pd.read_csv('../test.csv',index_col=\"tripid\")\n",
    "test_features_df = preprocess_features(test_features_raw_df)"
   ]
  },
  {
   "cell_type": "code",
   "execution_count": 12,
   "metadata": {
    "colab": {},
    "colab_type": "code",
    "id": "qVdzbd8tCWrR"
   },
   "outputs": [],
   "source": [
    "import xgboost as xgb\n",
    "\n",
    "from sklearn.metrics import f1_score, confusion_matrix\n",
    "\n",
    "from sklearn.model_selection import train_test_split\n",
    "\n",
    "RANDOM_SEED = 4\n",
    "thresh = 5"
   ]
  },
  {
   "cell_type": "code",
   "execution_count": 13,
   "metadata": {
    "colab": {},
    "colab_type": "code",
    "id": "eIhg-gF8GR9n"
   },
   "outputs": [],
   "source": [
    "def f1_m(y_pred, dtrain):\n",
    "  print(dtrain)\n",
    "  y_true = dtrain.get_label()\n",
    "  err = 1 - f1_score(y_true, np.round(y_pred))\n",
    "  return 'f1_m', err"
   ]
  },
  {
   "cell_type": "code",
   "execution_count": 14,
   "metadata": {
    "colab": {},
    "colab_type": "code",
    "id": "TQoXqhQ_rTwR"
   },
   "outputs": [],
   "source": [
    "def modelfit(xgbmodel, x_train, y_train, x_eval, y_eval, test_features_df, useTrainCV=True, cv_folds=5, early_stopping_rounds=50):\n",
    "    \n",
    "    if useTrainCV:\n",
    "        params = xgbmodel.get_xgb_params()\n",
    "        dtrain = xgb.DMatrix(x_train, label=y_train)\n",
    "        cvresult = xgb.cv(params, dtrain, num_boost_round=xgbmodel.get_params()['n_estimators'], \n",
    "                          nfold=cv_folds, feval = f1, early_stopping_rounds=early_stopping_rounds, \n",
    "                          verbose_eval=False) \n",
    "        xgbmodel.set_params(n_estimators=cvresult.shape[0])\n",
    "    \n",
    "    #Fit the model on the data\n",
    "    xgbmodel.fit(x_train, y_train,eval_metric=f1)\n",
    "        \n",
    "    #Predict training set:\n",
    "    y_train_pred = xgbmodel.predict(x_train)\n",
    "        \n",
    "    #Print model report:\n",
    "    print(\"\\nModel Report\")\n",
    "    print('F1 train score: {:.6f}'.format(f1_score(y_train, y_train_pred)))\n",
    "    print('F1 train score macro: {:.6f}'.format(f1_score(y_train, y_train_pred, average='macro')))\n",
    "    \n",
    "    #Predict training set:\n",
    "    y_pred = xgbmodel.predict(x_eval)\n",
    "        \n",
    "    #Print model report:\n",
    "    print(\"\\nModel Report\")\n",
    "    print('F1 train score: {:.6f}'.format(f1_score(y_eval, y_pred)))\n",
    "    print('F1 train score macro: {:.6f}'.format(f1_score(y_eval, y_pred, average='macro')))\n",
    "\n",
    "    #save test predictions\n",
    "    test_pred = model.predict(test_features_df)\n",
    "\n",
    "    submission_df = pd.read_csv('/content/drive/My Drive/Semester 7/Machine Learning/sample_submission.csv',index_col=\"tripid\")\n",
    "\n",
    "    np.testing.assert_array_equal(test_features_df.index.values, \n",
    "                              submission_df.index.values)\n",
    "    \n",
    "    submission_df[\"prediction\"] = test_pred\n",
    "\n",
    "    submission_df.to_csv('/content/drive/My Drive/Semester 7/Machine Learning/submission_4.csv', index=True)\n",
    "\n",
    "    feat_imp = pd.Series(xgbmodel.booster().get_fscore())\n",
    "    feat_imp.plot(kind='bar', title='Feature Importances')\n",
    "    plt.ylabel('Feature Importance Score')"
   ]
  },
  {
   "cell_type": "code",
   "execution_count": 23,
   "metadata": {
    "colab": {
     "base_uri": "https://localhost:8080/",
     "height": 1000
    },
    "colab_type": "code",
    "id": "dstGIw8Ep6t9",
    "outputId": "9fc02206-3e91-442f-baab-a7d8b12ec699"
   },
   "outputs": [
    {
     "name": "stdout",
     "output_type": "stream",
     "text": [
      "<xgboost.core.DMatrix object at 0x7fbf4bd10208>\n",
      "<xgboost.core.DMatrix object at 0x7fbf4a9b5c50>\n",
      "<xgboost.core.DMatrix object at 0x7fbf4a9b5e80>\n",
      "<xgboost.core.DMatrix object at 0x7fbf4a9b5dd8>\n",
      "<xgboost.core.DMatrix object at 0x7fbf4a9b5cf8>\n",
      "<xgboost.core.DMatrix object at 0x7fbf4a9b5d30>\n",
      "<xgboost.core.DMatrix object at 0x7fbf4a9b5f28>\n",
      "<xgboost.core.DMatrix object at 0x7fbf4a9b5fd0>\n",
      "<xgboost.core.DMatrix object at 0x7fbf4a9b5ef0>\n",
      "<xgboost.core.DMatrix object at 0x7fbf7f50bb38>\n",
      "<xgboost.core.DMatrix object at 0x7fbf4bd10208>\n",
      "<xgboost.core.DMatrix object at 0x7fbf4a9b5c50>\n",
      "<xgboost.core.DMatrix object at 0x7fbf4a9b5e80>\n",
      "<xgboost.core.DMatrix object at 0x7fbf4a9b5dd8>\n",
      "<xgboost.core.DMatrix object at 0x7fbf4a9b5cf8>\n",
      "<xgboost.core.DMatrix object at 0x7fbf4a9b5d30>\n",
      "<xgboost.core.DMatrix object at 0x7fbf4a9b5f28>\n",
      "<xgboost.core.DMatrix object at 0x7fbf4a9b5fd0>\n",
      "<xgboost.core.DMatrix object at 0x7fbf4a9b5ef0>\n",
      "<xgboost.core.DMatrix object at 0x7fbf7f50bb38>\n",
      "<xgboost.core.DMatrix object at 0x7fbf4bd10208>\n",
      "<xgboost.core.DMatrix object at 0x7fbf4a9b5c50>\n",
      "<xgboost.core.DMatrix object at 0x7fbf4a9b5e80>\n",
      "<xgboost.core.DMatrix object at 0x7fbf4a9b5dd8>\n",
      "<xgboost.core.DMatrix object at 0x7fbf4a9b5cf8>\n",
      "<xgboost.core.DMatrix object at 0x7fbf4a9b5d30>\n",
      "<xgboost.core.DMatrix object at 0x7fbf4a9b5f28>\n",
      "<xgboost.core.DMatrix object at 0x7fbf4a9b5fd0>\n",
      "<xgboost.core.DMatrix object at 0x7fbf4a9b5ef0>\n",
      "<xgboost.core.DMatrix object at 0x7fbf7f50bb38>\n",
      "<xgboost.core.DMatrix object at 0x7fbf4bd10208>\n",
      "<xgboost.core.DMatrix object at 0x7fbf4a9b5c50>\n",
      "<xgboost.core.DMatrix object at 0x7fbf4a9b5e80>\n",
      "<xgboost.core.DMatrix object at 0x7fbf4a9b5dd8>\n",
      "<xgboost.core.DMatrix object at 0x7fbf4a9b5cf8>\n",
      "<xgboost.core.DMatrix object at 0x7fbf4a9b5d30>\n",
      "<xgboost.core.DMatrix object at 0x7fbf4a9b5f28>\n",
      "<xgboost.core.DMatrix object at 0x7fbf4a9b5fd0>\n",
      "<xgboost.core.DMatrix object at 0x7fbf4a9b5ef0>\n",
      "<xgboost.core.DMatrix object at 0x7fbf7f50bb38>\n",
      "<xgboost.core.DMatrix object at 0x7fbf4bd10208>\n",
      "<xgboost.core.DMatrix object at 0x7fbf4a9b5c50>\n",
      "<xgboost.core.DMatrix object at 0x7fbf4a9b5e80>\n",
      "<xgboost.core.DMatrix object at 0x7fbf4a9b5dd8>\n",
      "<xgboost.core.DMatrix object at 0x7fbf4a9b5cf8>\n",
      "<xgboost.core.DMatrix object at 0x7fbf4a9b5d30>\n",
      "<xgboost.core.DMatrix object at 0x7fbf4a9b5f28>\n",
      "<xgboost.core.DMatrix object at 0x7fbf4a9b5fd0>\n",
      "<xgboost.core.DMatrix object at 0x7fbf4a9b5ef0>\n",
      "<xgboost.core.DMatrix object at 0x7fbf7f50bb38>\n",
      "<xgboost.core.DMatrix object at 0x7fbf4bd10208>\n",
      "<xgboost.core.DMatrix object at 0x7fbf4a9b5c50>\n",
      "<xgboost.core.DMatrix object at 0x7fbf4a9b5e80>\n",
      "<xgboost.core.DMatrix object at 0x7fbf4a9b5dd8>\n",
      "<xgboost.core.DMatrix object at 0x7fbf4a9b5cf8>\n",
      "<xgboost.core.DMatrix object at 0x7fbf4a9b5d30>\n",
      "<xgboost.core.DMatrix object at 0x7fbf4a9b5f28>\n",
      "<xgboost.core.DMatrix object at 0x7fbf4a9b5fd0>\n",
      "<xgboost.core.DMatrix object at 0x7fbf4a9b5ef0>\n",
      "<xgboost.core.DMatrix object at 0x7fbf7f50bb38>\n",
      "<xgboost.core.DMatrix object at 0x7fbf4bd10208>\n",
      "<xgboost.core.DMatrix object at 0x7fbf4a9b5c50>\n",
      "<xgboost.core.DMatrix object at 0x7fbf4a9b5e80>\n",
      "<xgboost.core.DMatrix object at 0x7fbf4a9b5dd8>\n",
      "<xgboost.core.DMatrix object at 0x7fbf4a9b5cf8>\n",
      "<xgboost.core.DMatrix object at 0x7fbf4a9b5d30>\n",
      "<xgboost.core.DMatrix object at 0x7fbf4a9b5f28>\n",
      "<xgboost.core.DMatrix object at 0x7fbf4a9b5fd0>\n",
      "<xgboost.core.DMatrix object at 0x7fbf4a9b5ef0>\n",
      "<xgboost.core.DMatrix object at 0x7fbf7f50bb38>\n",
      "<xgboost.core.DMatrix object at 0x7fbf4bd10208>\n",
      "<xgboost.core.DMatrix object at 0x7fbf4a9b5c50>\n",
      "<xgboost.core.DMatrix object at 0x7fbf4a9b5e80>\n",
      "<xgboost.core.DMatrix object at 0x7fbf4a9b5dd8>\n",
      "<xgboost.core.DMatrix object at 0x7fbf4a9b5cf8>\n",
      "<xgboost.core.DMatrix object at 0x7fbf4a9b5d30>\n",
      "<xgboost.core.DMatrix object at 0x7fbf4a9b5f28>\n",
      "<xgboost.core.DMatrix object at 0x7fbf4a9b5fd0>\n",
      "<xgboost.core.DMatrix object at 0x7fbf4a9b5ef0>\n",
      "<xgboost.core.DMatrix object at 0x7fbf7f50bb38>\n",
      "<xgboost.core.DMatrix object at 0x7fbf4bd10208>\n",
      "<xgboost.core.DMatrix object at 0x7fbf4a9b5c50>\n",
      "<xgboost.core.DMatrix object at 0x7fbf4a9b5e80>\n",
      "<xgboost.core.DMatrix object at 0x7fbf4a9b5dd8>\n",
      "<xgboost.core.DMatrix object at 0x7fbf4a9b5cf8>\n",
      "<xgboost.core.DMatrix object at 0x7fbf4a9b5d30>\n",
      "<xgboost.core.DMatrix object at 0x7fbf4a9b5f28>\n",
      "<xgboost.core.DMatrix object at 0x7fbf4a9b5fd0>\n",
      "<xgboost.core.DMatrix object at 0x7fbf4a9b5ef0>\n",
      "<xgboost.core.DMatrix object at 0x7fbf7f50bb38>\n",
      "<xgboost.core.DMatrix object at 0x7fbf4bd10208>\n",
      "<xgboost.core.DMatrix object at 0x7fbf4a9b5c50>\n",
      "<xgboost.core.DMatrix object at 0x7fbf4a9b5e80>\n",
      "<xgboost.core.DMatrix object at 0x7fbf4a9b5dd8>\n",
      "<xgboost.core.DMatrix object at 0x7fbf4a9b5cf8>\n",
      "<xgboost.core.DMatrix object at 0x7fbf4a9b5d30>\n",
      "<xgboost.core.DMatrix object at 0x7fbf4a9b5f28>\n",
      "<xgboost.core.DMatrix object at 0x7fbf4a9b5fd0>\n",
      "<xgboost.core.DMatrix object at 0x7fbf4a9b5ef0>\n",
      "<xgboost.core.DMatrix object at 0x7fbf7f50bb38>\n",
      "<xgboost.core.DMatrix object at 0x7fbf4bd10208>\n",
      "<xgboost.core.DMatrix object at 0x7fbf4a9b5c50>\n",
      "<xgboost.core.DMatrix object at 0x7fbf4a9b5e80>\n",
      "<xgboost.core.DMatrix object at 0x7fbf4a9b5dd8>\n",
      "<xgboost.core.DMatrix object at 0x7fbf4a9b5cf8>\n",
      "<xgboost.core.DMatrix object at 0x7fbf4a9b5d30>\n",
      "<xgboost.core.DMatrix object at 0x7fbf4a9b5f28>\n",
      "<xgboost.core.DMatrix object at 0x7fbf4a9b5fd0>\n",
      "<xgboost.core.DMatrix object at 0x7fbf4a9b5ef0>\n",
      "<xgboost.core.DMatrix object at 0x7fbf7f50bb38>\n",
      "<xgboost.core.DMatrix object at 0x7fbf4bd10208>\n",
      "<xgboost.core.DMatrix object at 0x7fbf4a9b5c50>\n",
      "<xgboost.core.DMatrix object at 0x7fbf4a9b5e80>\n",
      "<xgboost.core.DMatrix object at 0x7fbf4a9b5dd8>\n",
      "<xgboost.core.DMatrix object at 0x7fbf4a9b5cf8>\n",
      "<xgboost.core.DMatrix object at 0x7fbf4a9b5d30>\n",
      "<xgboost.core.DMatrix object at 0x7fbf4a9b5f28>\n",
      "<xgboost.core.DMatrix object at 0x7fbf4a9b5fd0>\n",
      "<xgboost.core.DMatrix object at 0x7fbf4a9b5ef0>\n",
      "<xgboost.core.DMatrix object at 0x7fbf7f50bb38>\n",
      "<xgboost.core.DMatrix object at 0x7fbf4bd10208>\n",
      "<xgboost.core.DMatrix object at 0x7fbf4a9b5c50>\n",
      "<xgboost.core.DMatrix object at 0x7fbf4a9b5e80>\n",
      "<xgboost.core.DMatrix object at 0x7fbf4a9b5dd8>\n",
      "<xgboost.core.DMatrix object at 0x7fbf4a9b5cf8>\n",
      "<xgboost.core.DMatrix object at 0x7fbf4a9b5d30>\n",
      "<xgboost.core.DMatrix object at 0x7fbf4a9b5f28>\n",
      "<xgboost.core.DMatrix object at 0x7fbf4a9b5fd0>\n",
      "<xgboost.core.DMatrix object at 0x7fbf4a9b5ef0>\n",
      "<xgboost.core.DMatrix object at 0x7fbf7f50bb38>\n",
      "<xgboost.core.DMatrix object at 0x7fbf4bd10208>\n",
      "<xgboost.core.DMatrix object at 0x7fbf4a9b5c50>\n",
      "<xgboost.core.DMatrix object at 0x7fbf4a9b5e80>\n",
      "<xgboost.core.DMatrix object at 0x7fbf4a9b5dd8>\n",
      "<xgboost.core.DMatrix object at 0x7fbf4a9b5cf8>\n",
      "<xgboost.core.DMatrix object at 0x7fbf4a9b5d30>\n",
      "<xgboost.core.DMatrix object at 0x7fbf4a9b5f28>\n",
      "<xgboost.core.DMatrix object at 0x7fbf4a9b5fd0>\n",
      "<xgboost.core.DMatrix object at 0x7fbf4a9b5ef0>\n",
      "<xgboost.core.DMatrix object at 0x7fbf7f50bb38>\n",
      "<xgboost.core.DMatrix object at 0x7fbf4bd10208>\n",
      "<xgboost.core.DMatrix object at 0x7fbf4a9b5c50>\n",
      "<xgboost.core.DMatrix object at 0x7fbf4a9b5e80>\n",
      "<xgboost.core.DMatrix object at 0x7fbf4a9b5dd8>\n",
      "<xgboost.core.DMatrix object at 0x7fbf4a9b5cf8>\n",
      "<xgboost.core.DMatrix object at 0x7fbf4a9b5d30>\n",
      "<xgboost.core.DMatrix object at 0x7fbf4a9b5f28>\n",
      "<xgboost.core.DMatrix object at 0x7fbf4a9b5fd0>\n",
      "<xgboost.core.DMatrix object at 0x7fbf4a9b5ef0>\n",
      "<xgboost.core.DMatrix object at 0x7fbf7f50bb38>\n",
      "<xgboost.core.DMatrix object at 0x7fbf4bd10208>\n",
      "<xgboost.core.DMatrix object at 0x7fbf4a9b5c50>\n",
      "<xgboost.core.DMatrix object at 0x7fbf4a9b5e80>\n",
      "<xgboost.core.DMatrix object at 0x7fbf4a9b5dd8>\n",
      "<xgboost.core.DMatrix object at 0x7fbf4a9b5cf8>\n",
      "<xgboost.core.DMatrix object at 0x7fbf4a9b5d30>\n",
      "<xgboost.core.DMatrix object at 0x7fbf4a9b5f28>\n",
      "<xgboost.core.DMatrix object at 0x7fbf4a9b5fd0>\n",
      "<xgboost.core.DMatrix object at 0x7fbf4a9b5ef0>\n",
      "<xgboost.core.DMatrix object at 0x7fbf7f50bb38>\n",
      "<xgboost.core.DMatrix object at 0x7fbf4bd10208>\n",
      "<xgboost.core.DMatrix object at 0x7fbf4a9b5c50>\n",
      "<xgboost.core.DMatrix object at 0x7fbf4a9b5e80>\n",
      "<xgboost.core.DMatrix object at 0x7fbf4a9b5dd8>\n",
      "<xgboost.core.DMatrix object at 0x7fbf4a9b5cf8>\n",
      "<xgboost.core.DMatrix object at 0x7fbf4a9b5d30>\n",
      "<xgboost.core.DMatrix object at 0x7fbf4a9b5f28>\n",
      "<xgboost.core.DMatrix object at 0x7fbf4a9b5fd0>\n",
      "<xgboost.core.DMatrix object at 0x7fbf4a9b5ef0>\n",
      "<xgboost.core.DMatrix object at 0x7fbf7f50bb38>\n",
      "<xgboost.core.DMatrix object at 0x7fbf4bd10208>\n",
      "<xgboost.core.DMatrix object at 0x7fbf4a9b5c50>\n",
      "<xgboost.core.DMatrix object at 0x7fbf4a9b5e80>\n",
      "<xgboost.core.DMatrix object at 0x7fbf4a9b5dd8>\n",
      "<xgboost.core.DMatrix object at 0x7fbf4a9b5cf8>\n",
      "<xgboost.core.DMatrix object at 0x7fbf4a9b5d30>\n",
      "<xgboost.core.DMatrix object at 0x7fbf4a9b5f28>\n",
      "<xgboost.core.DMatrix object at 0x7fbf4a9b5fd0>\n",
      "<xgboost.core.DMatrix object at 0x7fbf4a9b5ef0>\n",
      "<xgboost.core.DMatrix object at 0x7fbf7f50bb38>\n",
      "<xgboost.core.DMatrix object at 0x7fbf4bd10208>\n",
      "<xgboost.core.DMatrix object at 0x7fbf4a9b5c50>\n",
      "<xgboost.core.DMatrix object at 0x7fbf4a9b5e80>\n",
      "<xgboost.core.DMatrix object at 0x7fbf4a9b5dd8>\n",
      "<xgboost.core.DMatrix object at 0x7fbf4a9b5cf8>\n",
      "<xgboost.core.DMatrix object at 0x7fbf4a9b5d30>\n",
      "<xgboost.core.DMatrix object at 0x7fbf4a9b5f28>\n",
      "<xgboost.core.DMatrix object at 0x7fbf4a9b5fd0>\n",
      "<xgboost.core.DMatrix object at 0x7fbf4a9b5ef0>\n",
      "<xgboost.core.DMatrix object at 0x7fbf7f50bb38>\n",
      "<xgboost.core.DMatrix object at 0x7fbf4bd10208>\n",
      "<xgboost.core.DMatrix object at 0x7fbf4a9b5c50>\n",
      "<xgboost.core.DMatrix object at 0x7fbf4a9b5e80>\n",
      "<xgboost.core.DMatrix object at 0x7fbf4a9b5dd8>\n",
      "<xgboost.core.DMatrix object at 0x7fbf4a9b5cf8>\n",
      "<xgboost.core.DMatrix object at 0x7fbf4a9b5d30>\n",
      "<xgboost.core.DMatrix object at 0x7fbf4a9b5f28>\n",
      "<xgboost.core.DMatrix object at 0x7fbf4a9b5fd0>\n",
      "<xgboost.core.DMatrix object at 0x7fbf4a9b5ef0>\n",
      "<xgboost.core.DMatrix object at 0x7fbf7f50bb38>\n",
      "<xgboost.core.DMatrix object at 0x7fbf4bd10208>\n",
      "<xgboost.core.DMatrix object at 0x7fbf4a9b5c50>\n",
      "<xgboost.core.DMatrix object at 0x7fbf4a9b5e80>\n",
      "<xgboost.core.DMatrix object at 0x7fbf4a9b5dd8>\n",
      "<xgboost.core.DMatrix object at 0x7fbf4a9b5cf8>\n",
      "<xgboost.core.DMatrix object at 0x7fbf4a9b5d30>\n",
      "<xgboost.core.DMatrix object at 0x7fbf4a9b5f28>\n",
      "<xgboost.core.DMatrix object at 0x7fbf4a9b5fd0>\n",
      "<xgboost.core.DMatrix object at 0x7fbf4a9b5ef0>\n",
      "<xgboost.core.DMatrix object at 0x7fbf7f50bb38>\n",
      "<xgboost.core.DMatrix object at 0x7fbf4bd10208>\n",
      "<xgboost.core.DMatrix object at 0x7fbf4a9b5c50>\n",
      "<xgboost.core.DMatrix object at 0x7fbf4a9b5e80>\n",
      "<xgboost.core.DMatrix object at 0x7fbf4a9b5dd8>\n",
      "<xgboost.core.DMatrix object at 0x7fbf4a9b5cf8>\n",
      "<xgboost.core.DMatrix object at 0x7fbf4a9b5d30>\n",
      "<xgboost.core.DMatrix object at 0x7fbf4a9b5f28>\n",
      "<xgboost.core.DMatrix object at 0x7fbf4a9b5fd0>\n",
      "<xgboost.core.DMatrix object at 0x7fbf4a9b5ef0>\n",
      "<xgboost.core.DMatrix object at 0x7fbf7f50bb38>\n",
      "<xgboost.core.DMatrix object at 0x7fbf4bd10208>\n",
      "<xgboost.core.DMatrix object at 0x7fbf4a9b5c50>\n",
      "<xgboost.core.DMatrix object at 0x7fbf4a9b5e80>\n",
      "<xgboost.core.DMatrix object at 0x7fbf4a9b5dd8>\n",
      "<xgboost.core.DMatrix object at 0x7fbf4a9b5cf8>\n",
      "<xgboost.core.DMatrix object at 0x7fbf4a9b5d30>\n",
      "<xgboost.core.DMatrix object at 0x7fbf4a9b5f28>\n",
      "<xgboost.core.DMatrix object at 0x7fbf4a9b5fd0>\n",
      "<xgboost.core.DMatrix object at 0x7fbf4a9b5ef0>\n",
      "<xgboost.core.DMatrix object at 0x7fbf7f50bb38>\n",
      "<xgboost.core.DMatrix object at 0x7fbf4bd10208>\n",
      "<xgboost.core.DMatrix object at 0x7fbf4a9b5c50>\n",
      "<xgboost.core.DMatrix object at 0x7fbf4a9b5e80>\n",
      "<xgboost.core.DMatrix object at 0x7fbf4a9b5dd8>\n",
      "<xgboost.core.DMatrix object at 0x7fbf4a9b5cf8>\n",
      "<xgboost.core.DMatrix object at 0x7fbf4a9b5d30>\n",
      "<xgboost.core.DMatrix object at 0x7fbf4a9b5f28>\n",
      "<xgboost.core.DMatrix object at 0x7fbf4a9b5fd0>\n",
      "<xgboost.core.DMatrix object at 0x7fbf4a9b5ef0>\n",
      "<xgboost.core.DMatrix object at 0x7fbf7f50bb38>\n",
      "<xgboost.core.DMatrix object at 0x7fbf4bd10208>\n",
      "<xgboost.core.DMatrix object at 0x7fbf4a9b5c50>\n",
      "<xgboost.core.DMatrix object at 0x7fbf4a9b5e80>\n",
      "<xgboost.core.DMatrix object at 0x7fbf4a9b5dd8>\n",
      "<xgboost.core.DMatrix object at 0x7fbf4a9b5cf8>\n",
      "<xgboost.core.DMatrix object at 0x7fbf4a9b5d30>\n",
      "<xgboost.core.DMatrix object at 0x7fbf4a9b5f28>\n",
      "<xgboost.core.DMatrix object at 0x7fbf4a9b5fd0>\n",
      "<xgboost.core.DMatrix object at 0x7fbf4a9b5ef0>\n",
      "<xgboost.core.DMatrix object at 0x7fbf7f50bb38>\n",
      "<xgboost.core.DMatrix object at 0x7fbf4bd10208>\n",
      "<xgboost.core.DMatrix object at 0x7fbf4a9b5c50>\n",
      "<xgboost.core.DMatrix object at 0x7fbf4a9b5e80>\n",
      "<xgboost.core.DMatrix object at 0x7fbf4a9b5dd8>\n",
      "<xgboost.core.DMatrix object at 0x7fbf4a9b5cf8>\n",
      "<xgboost.core.DMatrix object at 0x7fbf4a9b5d30>\n",
      "<xgboost.core.DMatrix object at 0x7fbf4a9b5f28>\n",
      "<xgboost.core.DMatrix object at 0x7fbf4a9b5fd0>\n",
      "<xgboost.core.DMatrix object at 0x7fbf4a9b5ef0>\n",
      "<xgboost.core.DMatrix object at 0x7fbf7f50bb38>\n",
      "<xgboost.core.DMatrix object at 0x7fbf4bd10208>\n",
      "<xgboost.core.DMatrix object at 0x7fbf4a9b5c50>\n",
      "<xgboost.core.DMatrix object at 0x7fbf4a9b5e80>\n",
      "<xgboost.core.DMatrix object at 0x7fbf4a9b5dd8>\n",
      "<xgboost.core.DMatrix object at 0x7fbf4a9b5cf8>\n",
      "<xgboost.core.DMatrix object at 0x7fbf4a9b5d30>\n",
      "<xgboost.core.DMatrix object at 0x7fbf4a9b5f28>\n",
      "<xgboost.core.DMatrix object at 0x7fbf4a9b5fd0>\n",
      "<xgboost.core.DMatrix object at 0x7fbf4a9b5ef0>\n",
      "<xgboost.core.DMatrix object at 0x7fbf7f50bb38>\n",
      "<xgboost.core.DMatrix object at 0x7fbf4bd10208>\n",
      "<xgboost.core.DMatrix object at 0x7fbf4a9b5c50>\n",
      "<xgboost.core.DMatrix object at 0x7fbf4a9b5e80>\n",
      "<xgboost.core.DMatrix object at 0x7fbf4a9b5dd8>\n",
      "<xgboost.core.DMatrix object at 0x7fbf4a9b5cf8>\n",
      "<xgboost.core.DMatrix object at 0x7fbf4a9b5d30>\n",
      "<xgboost.core.DMatrix object at 0x7fbf4a9b5f28>\n",
      "<xgboost.core.DMatrix object at 0x7fbf4a9b5fd0>\n",
      "<xgboost.core.DMatrix object at 0x7fbf4a9b5ef0>\n",
      "<xgboost.core.DMatrix object at 0x7fbf7f50bb38>\n",
      "<xgboost.core.DMatrix object at 0x7fbf4bd10208>\n",
      "<xgboost.core.DMatrix object at 0x7fbf4a9b5c50>\n",
      "<xgboost.core.DMatrix object at 0x7fbf4a9b5e80>\n",
      "<xgboost.core.DMatrix object at 0x7fbf4a9b5dd8>\n",
      "<xgboost.core.DMatrix object at 0x7fbf4a9b5cf8>\n",
      "<xgboost.core.DMatrix object at 0x7fbf4a9b5d30>\n",
      "<xgboost.core.DMatrix object at 0x7fbf4a9b5f28>\n",
      "<xgboost.core.DMatrix object at 0x7fbf4a9b5fd0>\n",
      "<xgboost.core.DMatrix object at 0x7fbf4a9b5ef0>\n",
      "<xgboost.core.DMatrix object at 0x7fbf7f50bb38>\n",
      "<xgboost.core.DMatrix object at 0x7fbf4bd10208>\n",
      "<xgboost.core.DMatrix object at 0x7fbf4a9b5c50>\n",
      "<xgboost.core.DMatrix object at 0x7fbf4a9b5e80>\n",
      "<xgboost.core.DMatrix object at 0x7fbf4a9b5dd8>\n",
      "<xgboost.core.DMatrix object at 0x7fbf4a9b5cf8>\n",
      "<xgboost.core.DMatrix object at 0x7fbf4a9b5d30>\n",
      "<xgboost.core.DMatrix object at 0x7fbf4a9b5f28>\n",
      "<xgboost.core.DMatrix object at 0x7fbf4a9b5fd0>\n",
      "<xgboost.core.DMatrix object at 0x7fbf4a9b5ef0>\n",
      "<xgboost.core.DMatrix object at 0x7fbf7f50bb38>\n",
      "<xgboost.core.DMatrix object at 0x7fbf4bd10208>\n",
      "<xgboost.core.DMatrix object at 0x7fbf4a9b5c50>\n",
      "<xgboost.core.DMatrix object at 0x7fbf4a9b5e80>\n",
      "<xgboost.core.DMatrix object at 0x7fbf4a9b5dd8>\n",
      "<xgboost.core.DMatrix object at 0x7fbf4a9b5cf8>\n",
      "<xgboost.core.DMatrix object at 0x7fbf4a9b5d30>\n",
      "<xgboost.core.DMatrix object at 0x7fbf4a9b5f28>\n",
      "<xgboost.core.DMatrix object at 0x7fbf4a9b5fd0>\n",
      "<xgboost.core.DMatrix object at 0x7fbf4a9b5ef0>\n",
      "<xgboost.core.DMatrix object at 0x7fbf7f50bb38>\n",
      "<xgboost.core.DMatrix object at 0x7fbf4bd10208>\n",
      "<xgboost.core.DMatrix object at 0x7fbf4a9b5c50>\n",
      "<xgboost.core.DMatrix object at 0x7fbf4a9b5e80>\n",
      "<xgboost.core.DMatrix object at 0x7fbf4a9b5dd8>\n",
      "<xgboost.core.DMatrix object at 0x7fbf4a9b5cf8>\n",
      "<xgboost.core.DMatrix object at 0x7fbf4a9b5d30>\n",
      "<xgboost.core.DMatrix object at 0x7fbf4a9b5f28>\n",
      "<xgboost.core.DMatrix object at 0x7fbf4a9b5fd0>\n",
      "<xgboost.core.DMatrix object at 0x7fbf4a9b5ef0>\n",
      "<xgboost.core.DMatrix object at 0x7fbf7f50bb38>\n",
      "<xgboost.core.DMatrix object at 0x7fbf4bd10208>\n",
      "<xgboost.core.DMatrix object at 0x7fbf4a9b5c50>\n",
      "<xgboost.core.DMatrix object at 0x7fbf4a9b5e80>\n",
      "<xgboost.core.DMatrix object at 0x7fbf4a9b5dd8>\n",
      "<xgboost.core.DMatrix object at 0x7fbf4a9b5cf8>\n",
      "<xgboost.core.DMatrix object at 0x7fbf4a9b5d30>\n",
      "<xgboost.core.DMatrix object at 0x7fbf4a9b5f28>\n",
      "<xgboost.core.DMatrix object at 0x7fbf4a9b5fd0>\n",
      "<xgboost.core.DMatrix object at 0x7fbf4a9b5ef0>\n",
      "<xgboost.core.DMatrix object at 0x7fbf7f50bb38>\n",
      "<xgboost.core.DMatrix object at 0x7fbf4bd10208>\n",
      "<xgboost.core.DMatrix object at 0x7fbf4a9b5c50>\n",
      "<xgboost.core.DMatrix object at 0x7fbf4a9b5e80>\n",
      "<xgboost.core.DMatrix object at 0x7fbf4a9b5dd8>\n",
      "<xgboost.core.DMatrix object at 0x7fbf4a9b5cf8>\n",
      "<xgboost.core.DMatrix object at 0x7fbf4a9b5d30>\n",
      "<xgboost.core.DMatrix object at 0x7fbf4a9b5f28>\n",
      "<xgboost.core.DMatrix object at 0x7fbf4a9b5fd0>\n",
      "<xgboost.core.DMatrix object at 0x7fbf4a9b5ef0>\n",
      "<xgboost.core.DMatrix object at 0x7fbf7f50bb38>\n",
      "<xgboost.core.DMatrix object at 0x7fbf4bd10208>\n",
      "<xgboost.core.DMatrix object at 0x7fbf4a9b5c50>\n",
      "<xgboost.core.DMatrix object at 0x7fbf4a9b5e80>\n",
      "<xgboost.core.DMatrix object at 0x7fbf4a9b5dd8>\n",
      "<xgboost.core.DMatrix object at 0x7fbf4a9b5cf8>\n",
      "<xgboost.core.DMatrix object at 0x7fbf4a9b5d30>\n",
      "<xgboost.core.DMatrix object at 0x7fbf4a9b5f28>\n",
      "<xgboost.core.DMatrix object at 0x7fbf4a9b5fd0>\n",
      "<xgboost.core.DMatrix object at 0x7fbf4a9b5ef0>\n",
      "<xgboost.core.DMatrix object at 0x7fbf7f50bb38>\n",
      "<xgboost.core.DMatrix object at 0x7fbf4bd10208>\n",
      "<xgboost.core.DMatrix object at 0x7fbf4a9b5c50>\n",
      "<xgboost.core.DMatrix object at 0x7fbf4a9b5e80>\n",
      "<xgboost.core.DMatrix object at 0x7fbf4a9b5dd8>\n",
      "<xgboost.core.DMatrix object at 0x7fbf4a9b5cf8>\n",
      "<xgboost.core.DMatrix object at 0x7fbf4a9b5d30>\n",
      "<xgboost.core.DMatrix object at 0x7fbf4a9b5f28>\n",
      "<xgboost.core.DMatrix object at 0x7fbf4a9b5fd0>\n",
      "<xgboost.core.DMatrix object at 0x7fbf4a9b5ef0>\n",
      "<xgboost.core.DMatrix object at 0x7fbf7f50bb38>\n",
      "<xgboost.core.DMatrix object at 0x7fbf4bd10208>\n",
      "<xgboost.core.DMatrix object at 0x7fbf4a9b5c50>\n",
      "<xgboost.core.DMatrix object at 0x7fbf4a9b5e80>\n",
      "<xgboost.core.DMatrix object at 0x7fbf4a9b5dd8>\n",
      "<xgboost.core.DMatrix object at 0x7fbf4a9b5cf8>\n",
      "<xgboost.core.DMatrix object at 0x7fbf4a9b5d30>\n",
      "<xgboost.core.DMatrix object at 0x7fbf4a9b5f28>\n",
      "<xgboost.core.DMatrix object at 0x7fbf4a9b5fd0>\n",
      "<xgboost.core.DMatrix object at 0x7fbf4a9b5ef0>\n",
      "<xgboost.core.DMatrix object at 0x7fbf7f50bb38>\n",
      "<xgboost.core.DMatrix object at 0x7fbf4bd10208>\n",
      "<xgboost.core.DMatrix object at 0x7fbf4a9b5c50>\n",
      "<xgboost.core.DMatrix object at 0x7fbf4a9b5e80>\n",
      "<xgboost.core.DMatrix object at 0x7fbf4a9b5dd8>\n",
      "<xgboost.core.DMatrix object at 0x7fbf4a9b5cf8>\n",
      "<xgboost.core.DMatrix object at 0x7fbf4a9b5d30>\n",
      "<xgboost.core.DMatrix object at 0x7fbf4a9b5f28>\n",
      "<xgboost.core.DMatrix object at 0x7fbf4a9b5fd0>\n",
      "<xgboost.core.DMatrix object at 0x7fbf4a9b5ef0>\n",
      "<xgboost.core.DMatrix object at 0x7fbf7f50bb38>\n",
      "<xgboost.core.DMatrix object at 0x7fbf4bd10208>\n",
      "<xgboost.core.DMatrix object at 0x7fbf4a9b5c50>\n",
      "<xgboost.core.DMatrix object at 0x7fbf4a9b5e80>\n",
      "<xgboost.core.DMatrix object at 0x7fbf4a9b5dd8>\n",
      "<xgboost.core.DMatrix object at 0x7fbf4a9b5cf8>\n",
      "<xgboost.core.DMatrix object at 0x7fbf4a9b5d30>\n",
      "<xgboost.core.DMatrix object at 0x7fbf4a9b5f28>\n",
      "<xgboost.core.DMatrix object at 0x7fbf4a9b5fd0>\n",
      "<xgboost.core.DMatrix object at 0x7fbf4a9b5ef0>\n",
      "<xgboost.core.DMatrix object at 0x7fbf7f50bb38>\n",
      "<xgboost.core.DMatrix object at 0x7fbf4bd10208>\n",
      "<xgboost.core.DMatrix object at 0x7fbf4a9b5c50>\n",
      "<xgboost.core.DMatrix object at 0x7fbf4a9b5e80>\n",
      "<xgboost.core.DMatrix object at 0x7fbf4a9b5dd8>\n",
      "<xgboost.core.DMatrix object at 0x7fbf4a9b5cf8>\n",
      "<xgboost.core.DMatrix object at 0x7fbf4a9b5d30>\n",
      "<xgboost.core.DMatrix object at 0x7fbf4a9b5f28>\n",
      "<xgboost.core.DMatrix object at 0x7fbf4a9b5fd0>\n",
      "<xgboost.core.DMatrix object at 0x7fbf4a9b5ef0>\n",
      "<xgboost.core.DMatrix object at 0x7fbf7f50bb38>\n",
      "<xgboost.core.DMatrix object at 0x7fbf4bd10208>\n",
      "<xgboost.core.DMatrix object at 0x7fbf4a9b5c50>\n",
      "<xgboost.core.DMatrix object at 0x7fbf4a9b5e80>\n",
      "<xgboost.core.DMatrix object at 0x7fbf4a9b5dd8>\n",
      "<xgboost.core.DMatrix object at 0x7fbf4a9b5cf8>\n",
      "<xgboost.core.DMatrix object at 0x7fbf4a9b5d30>\n",
      "<xgboost.core.DMatrix object at 0x7fbf4a9b5f28>\n",
      "<xgboost.core.DMatrix object at 0x7fbf4a9b5fd0>\n",
      "<xgboost.core.DMatrix object at 0x7fbf4a9b5ef0>\n",
      "<xgboost.core.DMatrix object at 0x7fbf7f50bb38>\n",
      "<xgboost.core.DMatrix object at 0x7fbf4bd10208>\n",
      "<xgboost.core.DMatrix object at 0x7fbf4a9b5c50>\n",
      "<xgboost.core.DMatrix object at 0x7fbf4a9b5e80>\n",
      "<xgboost.core.DMatrix object at 0x7fbf4a9b5dd8>\n",
      "<xgboost.core.DMatrix object at 0x7fbf4a9b5cf8>\n",
      "<xgboost.core.DMatrix object at 0x7fbf4a9b5d30>\n",
      "<xgboost.core.DMatrix object at 0x7fbf4a9b5f28>\n",
      "<xgboost.core.DMatrix object at 0x7fbf4a9b5fd0>\n",
      "<xgboost.core.DMatrix object at 0x7fbf4a9b5ef0>\n",
      "<xgboost.core.DMatrix object at 0x7fbf7f50bb38>\n",
      "<xgboost.core.DMatrix object at 0x7fbf4bd10208>\n",
      "<xgboost.core.DMatrix object at 0x7fbf4a9b5c50>\n",
      "<xgboost.core.DMatrix object at 0x7fbf4a9b5e80>\n",
      "<xgboost.core.DMatrix object at 0x7fbf4a9b5dd8>\n",
      "<xgboost.core.DMatrix object at 0x7fbf4a9b5cf8>\n",
      "<xgboost.core.DMatrix object at 0x7fbf4a9b5d30>\n",
      "<xgboost.core.DMatrix object at 0x7fbf4a9b5f28>\n",
      "<xgboost.core.DMatrix object at 0x7fbf4a9b5fd0>\n",
      "<xgboost.core.DMatrix object at 0x7fbf4a9b5ef0>\n",
      "<xgboost.core.DMatrix object at 0x7fbf7f50bb38>\n",
      "<xgboost.core.DMatrix object at 0x7fbf4bd10208>\n",
      "<xgboost.core.DMatrix object at 0x7fbf4a9b5c50>\n",
      "<xgboost.core.DMatrix object at 0x7fbf4a9b5e80>\n",
      "<xgboost.core.DMatrix object at 0x7fbf4a9b5dd8>\n",
      "<xgboost.core.DMatrix object at 0x7fbf4a9b5cf8>\n",
      "<xgboost.core.DMatrix object at 0x7fbf4a9b5d30>\n",
      "<xgboost.core.DMatrix object at 0x7fbf4a9b5f28>\n",
      "<xgboost.core.DMatrix object at 0x7fbf4a9b5fd0>\n",
      "<xgboost.core.DMatrix object at 0x7fbf4a9b5ef0>\n",
      "<xgboost.core.DMatrix object at 0x7fbf7f50bb38>\n",
      "<xgboost.core.DMatrix object at 0x7fbf4bd10208>\n",
      "<xgboost.core.DMatrix object at 0x7fbf4a9b5c50>\n",
      "<xgboost.core.DMatrix object at 0x7fbf4a9b5e80>\n",
      "<xgboost.core.DMatrix object at 0x7fbf4a9b5dd8>\n",
      "<xgboost.core.DMatrix object at 0x7fbf4a9b5cf8>\n",
      "<xgboost.core.DMatrix object at 0x7fbf4a9b5d30>\n",
      "<xgboost.core.DMatrix object at 0x7fbf4a9b5f28>\n",
      "<xgboost.core.DMatrix object at 0x7fbf4a9b5fd0>\n",
      "<xgboost.core.DMatrix object at 0x7fbf4a9b5ef0>\n",
      "<xgboost.core.DMatrix object at 0x7fbf7f50bb38>\n",
      "<xgboost.core.DMatrix object at 0x7fbf4bd10208>\n",
      "<xgboost.core.DMatrix object at 0x7fbf4a9b5c50>\n",
      "<xgboost.core.DMatrix object at 0x7fbf4a9b5e80>\n",
      "<xgboost.core.DMatrix object at 0x7fbf4a9b5dd8>\n",
      "<xgboost.core.DMatrix object at 0x7fbf4a9b5cf8>\n",
      "<xgboost.core.DMatrix object at 0x7fbf4a9b5d30>\n",
      "<xgboost.core.DMatrix object at 0x7fbf4a9b5f28>\n",
      "<xgboost.core.DMatrix object at 0x7fbf4a9b5fd0>\n",
      "<xgboost.core.DMatrix object at 0x7fbf4a9b5ef0>\n",
      "<xgboost.core.DMatrix object at 0x7fbf7f50bb38>\n",
      "<xgboost.core.DMatrix object at 0x7fbf4bd10208>\n",
      "<xgboost.core.DMatrix object at 0x7fbf4a9b5c50>\n",
      "<xgboost.core.DMatrix object at 0x7fbf4a9b5e80>\n",
      "<xgboost.core.DMatrix object at 0x7fbf4a9b5dd8>\n",
      "<xgboost.core.DMatrix object at 0x7fbf4a9b5cf8>\n",
      "<xgboost.core.DMatrix object at 0x7fbf4a9b5d30>\n",
      "<xgboost.core.DMatrix object at 0x7fbf4a9b5f28>\n",
      "<xgboost.core.DMatrix object at 0x7fbf4a9b5fd0>\n",
      "<xgboost.core.DMatrix object at 0x7fbf4a9b5ef0>\n",
      "<xgboost.core.DMatrix object at 0x7fbf7f50bb38>\n",
      "<xgboost.core.DMatrix object at 0x7fbf4bd10208>\n",
      "<xgboost.core.DMatrix object at 0x7fbf4a9b5c50>\n",
      "<xgboost.core.DMatrix object at 0x7fbf4a9b5e80>\n",
      "<xgboost.core.DMatrix object at 0x7fbf4a9b5dd8>\n",
      "<xgboost.core.DMatrix object at 0x7fbf4a9b5cf8>\n",
      "<xgboost.core.DMatrix object at 0x7fbf4a9b5d30>\n",
      "<xgboost.core.DMatrix object at 0x7fbf4a9b5f28>\n",
      "<xgboost.core.DMatrix object at 0x7fbf4a9b5fd0>\n",
      "<xgboost.core.DMatrix object at 0x7fbf4a9b5ef0>\n",
      "<xgboost.core.DMatrix object at 0x7fbf7f50bb38>\n",
      "<xgboost.core.DMatrix object at 0x7fbf4bd10208>\n",
      "<xgboost.core.DMatrix object at 0x7fbf4a9b5c50>\n",
      "<xgboost.core.DMatrix object at 0x7fbf4a9b5e80>\n",
      "<xgboost.core.DMatrix object at 0x7fbf4a9b5dd8>\n",
      "<xgboost.core.DMatrix object at 0x7fbf4a9b5cf8>\n",
      "<xgboost.core.DMatrix object at 0x7fbf4a9b5d30>\n",
      "<xgboost.core.DMatrix object at 0x7fbf4a9b5f28>\n",
      "<xgboost.core.DMatrix object at 0x7fbf4a9b5fd0>\n",
      "<xgboost.core.DMatrix object at 0x7fbf4a9b5ef0>\n",
      "<xgboost.core.DMatrix object at 0x7fbf7f50bb38>\n",
      "<xgboost.core.DMatrix object at 0x7fbf4bd10208>\n",
      "<xgboost.core.DMatrix object at 0x7fbf4a9b5c50>\n",
      "<xgboost.core.DMatrix object at 0x7fbf4a9b5e80>\n",
      "<xgboost.core.DMatrix object at 0x7fbf4a9b5dd8>\n",
      "<xgboost.core.DMatrix object at 0x7fbf4a9b5cf8>\n",
      "<xgboost.core.DMatrix object at 0x7fbf4a9b5d30>\n",
      "<xgboost.core.DMatrix object at 0x7fbf4a9b5f28>\n",
      "<xgboost.core.DMatrix object at 0x7fbf4a9b5fd0>\n",
      "<xgboost.core.DMatrix object at 0x7fbf4a9b5ef0>\n",
      "<xgboost.core.DMatrix object at 0x7fbf7f50bb38>\n",
      "<xgboost.core.DMatrix object at 0x7fbf4bd10208>\n",
      "<xgboost.core.DMatrix object at 0x7fbf4a9b5c50>\n",
      "<xgboost.core.DMatrix object at 0x7fbf4a9b5e80>\n",
      "<xgboost.core.DMatrix object at 0x7fbf4a9b5dd8>\n",
      "<xgboost.core.DMatrix object at 0x7fbf4a9b5cf8>\n",
      "<xgboost.core.DMatrix object at 0x7fbf4a9b5d30>\n",
      "<xgboost.core.DMatrix object at 0x7fbf4a9b5f28>\n",
      "<xgboost.core.DMatrix object at 0x7fbf4a9b5fd0>\n",
      "<xgboost.core.DMatrix object at 0x7fbf4a9b5ef0>\n",
      "<xgboost.core.DMatrix object at 0x7fbf7f50bb38>\n",
      "\n",
      "Model Report\n",
      "F1 train score: 0.961638\n",
      "F1 train score macro: 0.727458\n",
      "\n",
      "Model Report\n",
      "F1 train score: 0.955843\n",
      "F1 train score macro: 0.672306\n"
     ]
    },
    {
     "name": "stderr",
     "output_type": "stream",
     "text": [
      "/usr/local/lib/python3.6/dist-packages/sklearn/preprocessing/_label.py:235: DataConversionWarning: A column-vector y was passed when a 1d array was expected. Please change the shape of y to (n_samples, ), for example using ravel().\n",
      "  y = column_or_1d(y, warn=True)\n",
      "/usr/local/lib/python3.6/dist-packages/sklearn/preprocessing/_label.py:268: DataConversionWarning: A column-vector y was passed when a 1d array was expected. Please change the shape of y to (n_samples, ), for example using ravel().\n",
      "  y = column_or_1d(y, warn=True)\n"
     ]
    },
    {
     "ename": "TypeError",
     "evalue": "ignored",
     "output_type": "error",
     "traceback": [
      "\u001b[0;31m---------------------------------------------------------------------------\u001b[0m",
      "\u001b[0;31mTypeError\u001b[0m                                 Traceback (most recent call last)",
      "\u001b[0;32m<ipython-input-23-30ab8b96cf23>\u001b[0m in \u001b[0;36m<module>\u001b[0;34m()\u001b[0m\n\u001b[1;32m     12\u001b[0m  \u001b[0mscale_pos_weight\u001b[0m\u001b[0;34m=\u001b[0m\u001b[0;36m1\u001b[0m\u001b[0;34m,\u001b[0m\u001b[0;34m\u001b[0m\u001b[0;34m\u001b[0m\u001b[0m\n\u001b[1;32m     13\u001b[0m  seed=27)\n\u001b[0;32m---> 14\u001b[0;31m \u001b[0mmodelfit\u001b[0m\u001b[0;34m(\u001b[0m\u001b[0mmodel\u001b[0m\u001b[0;34m,\u001b[0m \u001b[0mx_train\u001b[0m\u001b[0;34m,\u001b[0m \u001b[0my_train\u001b[0m\u001b[0;34m,\u001b[0m \u001b[0mx_eval\u001b[0m\u001b[0;34m,\u001b[0m \u001b[0my_eval\u001b[0m\u001b[0;34m,\u001b[0m \u001b[0mtest_features_df\u001b[0m\u001b[0;34m)\u001b[0m\u001b[0;34m\u001b[0m\u001b[0;34m\u001b[0m\u001b[0m\n\u001b[0m",
      "\u001b[0;32m<ipython-input-22-dbb2d030ca04>\u001b[0m in \u001b[0;36mmodelfit\u001b[0;34m(xgbmodel, x_train, y_train, x_eval, y_eval, test_features_df, useTrainCV, cv_folds, early_stopping_rounds)\u001b[0m\n\u001b[1;32m     40\u001b[0m     \u001b[0msubmission_df\u001b[0m\u001b[0;34m.\u001b[0m\u001b[0mto_csv\u001b[0m\u001b[0;34m(\u001b[0m\u001b[0;34m'/content/drive/My Drive/Semester 7/Machine Learning/submission_4.csv'\u001b[0m\u001b[0;34m,\u001b[0m \u001b[0mindex\u001b[0m\u001b[0;34m=\u001b[0m\u001b[0;32mTrue\u001b[0m\u001b[0;34m)\u001b[0m\u001b[0;34m\u001b[0m\u001b[0;34m\u001b[0m\u001b[0m\n\u001b[1;32m     41\u001b[0m \u001b[0;34m\u001b[0m\u001b[0m\n\u001b[0;32m---> 42\u001b[0;31m     \u001b[0mfeat_imp\u001b[0m \u001b[0;34m=\u001b[0m \u001b[0mpd\u001b[0m\u001b[0;34m.\u001b[0m\u001b[0mSeries\u001b[0m\u001b[0;34m(\u001b[0m\u001b[0mxgbmodel\u001b[0m\u001b[0;34m.\u001b[0m\u001b[0mbooster\u001b[0m\u001b[0;34m(\u001b[0m\u001b[0;34m)\u001b[0m\u001b[0;34m.\u001b[0m\u001b[0mget_fscore\u001b[0m\u001b[0;34m(\u001b[0m\u001b[0;34m)\u001b[0m\u001b[0;34m)\u001b[0m\u001b[0;34m\u001b[0m\u001b[0;34m\u001b[0m\u001b[0m\n\u001b[0m\u001b[1;32m     43\u001b[0m     \u001b[0mfeat_imp\u001b[0m\u001b[0;34m.\u001b[0m\u001b[0mplot\u001b[0m\u001b[0;34m(\u001b[0m\u001b[0mkind\u001b[0m\u001b[0;34m=\u001b[0m\u001b[0;34m'bar'\u001b[0m\u001b[0;34m,\u001b[0m \u001b[0mtitle\u001b[0m\u001b[0;34m=\u001b[0m\u001b[0;34m'Feature Importances'\u001b[0m\u001b[0;34m)\u001b[0m\u001b[0;34m\u001b[0m\u001b[0;34m\u001b[0m\u001b[0m\n\u001b[1;32m     44\u001b[0m     \u001b[0mplt\u001b[0m\u001b[0;34m.\u001b[0m\u001b[0mylabel\u001b[0m\u001b[0;34m(\u001b[0m\u001b[0;34m'Feature Importance Score'\u001b[0m\u001b[0;34m)\u001b[0m\u001b[0;34m\u001b[0m\u001b[0;34m\u001b[0m\u001b[0m\n",
      "\u001b[0;31mTypeError\u001b[0m: 'str' object is not callable"
     ]
    }
   ],
   "source": [
    "#Choose all predictors except target & IDcols\n",
    "model = XGBClassifier(\n",
    " learning_rate =0.1,\n",
    " n_estimators=1000,\n",
    " max_depth=5,\n",
    " min_child_weight=1,\n",
    " gamma=0,\n",
    " subsample=0.8,\n",
    " colsample_bytree=0.8,\n",
    " objective= 'binary:logistic',\n",
    " nthread=-1,\n",
    " scale_pos_weight=1,\n",
    " seed=27)\n",
    "modelfit(model, x_train, y_train, x_eval, y_eval, test_features_df)"
   ]
  },
  {
   "cell_type": "code",
   "execution_count": 0,
   "metadata": {
    "colab": {},
    "colab_type": "code",
    "id": "le_HWUcrDA25"
   },
   "outputs": [],
   "source": []
  },
  {
   "cell_type": "code",
   "execution_count": 0,
   "metadata": {
    "colab": {},
    "colab_type": "code",
    "id": "Ymy6GGXZGg5a"
   },
   "outputs": [],
   "source": [
    "#use bayesian optimization to chose parameters \n",
    "#train model\n",
    "#save model\n",
    "#\n",
    "\n",
    "def write_to_log(data, new_params=False):\n",
    "    global model_type\n",
    "    with open(f'flu/{model_type}_log.txt', 'a') as LOG_FILE:\n",
    "        if new_params:\n",
    "            LOG_FILE.write('*' * 50)\n",
    "\n",
    "        for key, item in data.items():\n",
    "            LOG_FILE.write(f'{key} : {item} \\n')\n",
    "\n",
    "        if len(data) == 1:\n",
    "            LOG_FILE.write('_' * 50)\n",
    "            LOG_FILE.write('\\n')\n",
    "\n",
    "        if new_params:\n",
    "            LOG_FILE.write('*' * 50)\n",
    "\n",
    "\n",
    "def record_history(data, new_activity=False):\n",
    "    global model_type\n",
    "    with open(f'flu/{model_type}_history.txt', 'a') as history:\n",
    "        if new_activity:\n",
    "            history.write('*' * 250 + '\\n')\n",
    "        else:\n",
    "            history.write(str(data) + '\\n')\n",
    "\n",
    "\n",
    "def tree_optimization(eta, gamma, max_depth, subsample, lambda_val, num_parallel_tree):\n",
    "    global H1N1_train, H1N1_test, FLU_train, FLU_test, best_H1N1, best_FLU, tree_no, model_type, x_final\n",
    "\n",
    "    booster_params = {\n",
    "        'eta': eta,\n",
    "        'gamma': gamma,\n",
    "        \"eval_metric\": \"auc\",\n",
    "        'max_depth': int(np.around(max_depth)),\n",
    "        'subsample': subsample,\n",
    "        'sampling_method': 'gradient_based',\n",
    "        'lambda': lambda_val,\n",
    "        'grow_policy': 'lossguide',\n",
    "        'num_parallel_tree': num_parallel_tree,\n",
    "        'objective': 'binary:logistic',\n",
    "        'verbosity': 1,\n",
    "    }\n",
    "\n",
    "    results = {}\n",
    "\n",
    "    print(\"generating model\")\n",
    "    if model_type == 'H1N1':\n",
    "        H1N1_model = xgb.train(booster_params, H1N1_train, num_boost_round=100, evals=[(H1N1_test, 'val')],\n",
    "                               early_stopping_rounds=10, evals_result=results)\n",
    "        num_iter = H1N1_model.best_iteration + 1\n",
    "        best_score_H1N1 = H1N1_model.best_score\n",
    "\n",
    "        if best_score_H1N1 > best_H1N1:\n",
    "            print(f\"Score incresed to {best_score_H1N1} from {best_H1N1}\")\n",
    "            best_H1N1 = best_score_H1N1\n",
    "            H1N1_model = xgb.train(booster_params, H1N1_train, num_boost_round=num_iter, evals=[(H1N1_test, 'val')],\n",
    "                                   evals_result=results)\n",
    "            H1N1_model.save_model(f'logs/H1N1_{tree_no}_AUC_{best_H1N1}.model')\n",
    "            submission_H1N1 = H1N1_model.predict(x_final)\n",
    "            savetxt(f'logs/H1N1_{tree_no}_preds.txt', asarray(submission_H1N1), delimiter=',')\n",
    "\n",
    "        score = best_score_H1N1\n",
    "\n",
    "    else:\n",
    "        FLU_model = xgb.train(booster_params, FLU_train, num_boost_round=100, evals=[(FLU_test, 'val')],\n",
    "                              early_stopping_rounds=10, evals_result=results)\n",
    "        num_iter = FLU_model.best_iteration + 1\n",
    "        best_score_FLU = FLU_model.best_score\n",
    "\n",
    "        if best_score_FLU > best_FLU:\n",
    "            print(f\"Score increased to {best_score_FLU} from {best_FLU}\")\n",
    "            best_FLU = best_score_FLU\n",
    "            FLU_model = xgb.train(booster_params, FLU_train, num_boost_round=num_iter, evals=[(FLU_test, 'val')],\n",
    "                                  evals_result=results)\n",
    "            FLU_model.save_model(f'logs/FLU_{tree_no}_AUC_{best_FLU}.model')\n",
    "            submission_FLU = FLU_model.predict(x_final)\n",
    "            savetxt(f'flu/FLU_{tree_no}_preds.txt', asarray(submission_FLU), delimiter=',')\n",
    "\n",
    "        score = best_score_FLU\n",
    "\n",
    "    booster_params['ROC'] = score\n",
    "    record_history(booster_params)\n",
    "    tree_no += 1\n",
    "    return score\n",
    "\n",
    "\n",
    "def use_bayesian_optimization():\n",
    "    global model_type\n",
    "    max_file = open(f\"max_params_{model_type}.txt\", 'w')\n",
    "\n",
    "    NN_BAYESIAN = BayesianOptimization(\n",
    "        tree_optimization,\n",
    "        {\n",
    "            'eta': (0, 1),\n",
    "            'gamma': (0, 2),\n",
    "            'max_depth': (5, 15),\n",
    "            'subsample': (0, 1),\n",
    "            'lambda_val': (0, 3),\n",
    "            'num_parallel_tree': (7, 17)\n",
    "        })\n",
    "    NN_BAYESIAN.maximize(init_points=50, n_iter=550, acq='ei', xi=0.0)\n",
    "    write_to_log(NN_BAYESIAN.max)\n",
    "    print('Best NN parameters: ', NN_BAYESIAN.max, file=max_file)\n",
    "\n",
    "\n",
    "best_H1N1 = 0\n",
    "best_FLU = 0\n",
    "model_types = ['H1N1', 'FLU']\n",
    "\n",
    "for model_type in model_types:\n",
    "    tree_no = 0\n",
    "    use_bayesian_optimization()\n"
   ]
  },
  {
   "cell_type": "code",
   "execution_count": 18,
   "metadata": {},
   "outputs": [],
   "source": [
    "from sklearn.model_selection import GridSearchCV"
   ]
  },
  {
   "cell_type": "code",
   "execution_count": 24,
   "metadata": {},
   "outputs": [],
   "source": [
    "cv_params = {'max_depth': [1,2,3,4,5,6], 'min_child_weight': [1,2,3,4]}    # parameters to be tries in the grid search\n",
    "fix_params = {'learning_rate': 0.2, 'n_estimators': 100, 'objective': 'binary:logistic'}   #other parameters, fixed for the moment \n",
    "csv = GridSearchCV(xgb.XGBClassifier(**fix_params), cv_params, scoring = 'f1', cv = 5, n_jobs=-1)"
   ]
  },
  {
   "cell_type": "code",
   "execution_count": 25,
   "metadata": {},
   "outputs": [],
   "source": [
    "data_dmatrix = xgb.DMatrix(data=features_df,label=labels_df)"
   ]
  },
  {
   "cell_type": "code",
   "execution_count": 26,
   "metadata": {},
   "outputs": [],
   "source": [
    "x_train, x_eval, y_train, y_eval = train_test_split(\n",
    "    features_df,\n",
    "    labels_df,\n",
    "    test_size=0.2,\n",
    "    shuffle=True,\n",
    "    stratify=labels_df,\n",
    "    random_state=RANDOM_SEED\n",
    ")"
   ]
  },
  {
   "cell_type": "code",
   "execution_count": 28,
   "metadata": {},
   "outputs": [
    {
     "data": {
      "text/plain": [
       "GridSearchCV(cv=5, error_score=nan,\n",
       "             estimator=XGBClassifier(base_score=0.5, booster='gbtree',\n",
       "                                     colsample_bylevel=1, colsample_bynode=1,\n",
       "                                     colsample_bytree=1, gamma=0,\n",
       "                                     learning_rate=0.2, max_delta_step=0,\n",
       "                                     max_depth=3, min_child_weight=1,\n",
       "                                     missing=None, n_estimators=100, n_jobs=1,\n",
       "                                     nthread=None, objective='binary:logistic',\n",
       "                                     random_state=0, reg_alpha=0, reg_lambda=1,\n",
       "                                     scale_pos_weight=1, seed=None, silent=None,\n",
       "                                     subsample=1, verbosity=1),\n",
       "             iid='deprecated', n_jobs=-1,\n",
       "             param_grid={'max_depth': [1, 2, 3, 4, 5, 6],\n",
       "                         'min_child_weight': [1, 2, 3, 4]},\n",
       "             pre_dispatch='2*n_jobs', refit=True, return_train_score=False,\n",
       "             scoring='f1', verbose=0)"
      ]
     },
     "execution_count": 28,
     "metadata": {},
     "output_type": "execute_result"
    }
   ],
   "source": [
    "csv.fit(x_train, y_train.values.ravel())"
   ]
  },
  {
   "cell_type": "code",
   "execution_count": 29,
   "metadata": {},
   "outputs": [
    {
     "data": {
      "text/plain": [
       "{'max_depth': 5, 'min_child_weight': 2}"
      ]
     },
     "execution_count": 29,
     "metadata": {},
     "output_type": "execute_result"
    }
   ],
   "source": [
    "csv.best_params_"
   ]
  },
  {
   "cell_type": "code",
   "execution_count": 32,
   "metadata": {},
   "outputs": [],
   "source": [
    "cv_params = {'subsample': [0.8,0.9,1], 'max_delta_step': [0,1,2,4]}\n",
    "fix_params = {'learning_rate': 0.2, 'n_estimators': 100, 'objective': 'binary:logistic', 'max_depth': 5, 'min_child_weight':2}"
   ]
  },
  {
   "cell_type": "code",
   "execution_count": 35,
   "metadata": {},
   "outputs": [
    {
     "data": {
      "text/plain": [
       "{'max_delta_step': 0, 'subsample': 1}"
      ]
     },
     "execution_count": 35,
     "metadata": {},
     "output_type": "execute_result"
    }
   ],
   "source": [
    "csv = GridSearchCV(xgb.XGBClassifier(**fix_params), cv_params, scoring = 'f1', cv = 5, n_jobs=-1) \n",
    "csv.fit(x_train, y_train.values.ravel())\n",
    "\n",
    "csv.best_params_"
   ]
  },
  {
   "cell_type": "code",
   "execution_count": 36,
   "metadata": {},
   "outputs": [],
   "source": [
    "cv_params = {'learning_rate': [0.05, 0.1, 0.15, 0.2, 0.25, 0.3]}\n",
    "fix_params['max_delta_step'] = 0\n",
    "fix_params['subsample'] = 1"
   ]
  },
  {
   "cell_type": "code",
   "execution_count": 37,
   "metadata": {},
   "outputs": [
    {
     "data": {
      "text/plain": [
       "{'learning_rate': 0.2}"
      ]
     },
     "execution_count": 37,
     "metadata": {},
     "output_type": "execute_result"
    }
   ],
   "source": [
    "csv = GridSearchCV(xgb.XGBClassifier(**fix_params), cv_params, scoring = 'f1', cv = 5, n_jobs=-1) \n",
    "csv.fit(x_train, y_train.values.ravel())\n",
    "\n",
    "csv.best_params_"
   ]
  },
  {
   "cell_type": "code",
   "execution_count": 39,
   "metadata": {},
   "outputs": [
    {
     "name": "stdout",
     "output_type": "stream",
     "text": [
      "F1 score: 0.964465\n",
      "F1 score: 0.761530\n"
     ]
    }
   ],
   "source": [
    "pred_cv_best = csv.best_estimator_.predict(x_eval)\n",
    "print('F1 score: {:.6f}'.format(f1_score(y_eval, pred_cv_best)))\n",
    "print('F1 score: {:.6f}'.format(f1_score(y_eval, pred_cv_best, average='macro')))"
   ]
  },
  {
   "cell_type": "code",
   "execution_count": 40,
   "metadata": {},
   "outputs": [],
   "source": [
    "cv_params = {'eta': [0, 0.05, 0.1, 0.3, 0.7, 1]}\n",
    "fix_params['learning_rate'] = 0.2"
   ]
  },
  {
   "cell_type": "code",
   "execution_count": 41,
   "metadata": {},
   "outputs": [
    {
     "data": {
      "text/plain": [
       "{'eta': 0}"
      ]
     },
     "execution_count": 41,
     "metadata": {},
     "output_type": "execute_result"
    }
   ],
   "source": [
    "csv = GridSearchCV(xgb.XGBClassifier(**fix_params), cv_params, scoring = 'f1', cv = 5, n_jobs=-1) \n",
    "csv.fit(x_train, y_train.values.ravel())\n",
    "\n",
    "csv.best_params_"
   ]
  },
  {
   "cell_type": "code",
   "execution_count": 42,
   "metadata": {},
   "outputs": [
    {
     "name": "stdout",
     "output_type": "stream",
     "text": [
      "F1 score: 0.964465\n",
      "F1 score: 0.761530\n"
     ]
    }
   ],
   "source": [
    "pred_cv_best = csv.best_estimator_.predict(x_eval)\n",
    "print('F1 score: {:.6f}'.format(f1_score(y_eval, pred_cv_best)))\n",
    "print('F1 score: {:.6f}'.format(f1_score(y_eval, pred_cv_best, average='macro')))"
   ]
  },
  {
   "cell_type": "code",
   "execution_count": 45,
   "metadata": {},
   "outputs": [
    {
     "name": "stdout",
     "output_type": "stream",
     "text": [
      "{'learning_rate': 0.2, 'n_estimators': 100, 'objective': 'binary:logistic', 'max_depth': 5, 'min_child_weight': 2, 'max_delta_step': 0, 'subsample': 1}\n"
     ]
    }
   ],
   "source": [
    "fix_params['learning_rate'] = 0.2\n",
    "params_final =  fix_params\n",
    "print(params_final)"
   ]
  },
  {
   "cell_type": "code",
   "execution_count": 47,
   "metadata": {},
   "outputs": [],
   "source": [
    "xgdmat_train = xgb.DMatrix(x_train, y_train)\n",
    "xgdmat_test = xgb.DMatrix(x_eval, y_eval)\n",
    "xgb_final = xgb.train(params_final, xgdmat_train, num_boost_round = 100)"
   ]
  },
  {
   "cell_type": "code",
   "execution_count": 64,
   "metadata": {},
   "outputs": [],
   "source": [
    "import matplotlib.pyplot as plt \n",
    "import itertools\n",
    "\n",
    "\n",
    "def plot_confusion_matrix(cm, classes,\n",
    "                          normalize=False,\n",
    "                          title='Confusion matrix',\n",
    "                          cmap=plt.cm.Blues):\n",
    "    \"\"\"\n",
    "    This function prints and plots the confusion matrix.\n",
    "    Normalization can be applied by setting `normalize=True`.\n",
    "    \"\"\"\n",
    "    plt.imshow(cm, interpolation='nearest', cmap=cmap)\n",
    "    plt.title(title)\n",
    "    plt.colorbar()\n",
    "    tick_marks = np.arange(len(classes))\n",
    "    plt.xticks(tick_marks, classes, rotation=45)\n",
    "    plt.yticks(tick_marks, classes)\n",
    "\n",
    "    if normalize:\n",
    "        cm = cm.astype('float') / cm.sum(axis=1)[:, np.newaxis]\n",
    "    thresh = cm.max() / 2.\n",
    "    for i, j in itertools.product(range(cm.shape[0]), range(cm.shape[1])):\n",
    "        plt.text(j, i, cm[i, j],\n",
    "                 horizontalalignment=\"center\",\n",
    "                 color=\"white\" if cm[i, j] > thresh else \"black\")\n",
    "\n",
    "    plt.tight_layout()\n",
    "    plt.ylabel('True label')\n",
    "    plt.xlabel('Predicted label')\n",
    "    plt.show()\n",
    "    \n",
    "def show_data(cm, print_res = 0):\n",
    "    tp = cm[1,1]\n",
    "    fn = cm[1,0]\n",
    "    fp = cm[0,1]\n",
    "    tn = cm[0,0]\n",
    "    if print_res == 1:\n",
    "        print('Precision =     {:.3f}'.format(tp/(tp+fp)))\n",
    "        print('Recall (TPR) =  {:.3f}'.format(tp/(tp+fn)))\n",
    "        #print('Fallout (FPR) = {:.3e}'.format(fp/(fp+tn)))\n",
    "    return tp/(tp+fp), tp/(tp+fn), fp/(fp+tn)"
   ]
  },
  {
   "cell_type": "code",
   "execution_count": 77,
   "metadata": {},
   "outputs": [
    {
     "data": {
      "image/png": "[encoded data removed]",
      "text/plain": [
       "<Figure size 432x288 with 2 Axes>"
      ]
     },
     "metadata": {
      "needs_background": "light"
     },
     "output_type": "display_data"
    },
    {
     "name": "stdout",
     "output_type": "stream",
     "text": [
      "Precision =     0.941\n",
      "Recall (TPR) =  0.989\n",
      "F1 Score = 0.964465\n",
      "Macro F1 Score = 0.761530\n"
     ]
    }
   ],
   "source": [
    "y_pred = xgb_final.predict(xgdmat_test)\n",
    "y_pred [y_pred > thresh] = 1\n",
    "y_pred [y_pred <= thresh] = 0\n",
    "cm = confusion_matrix(y_eval, y_pred)\n",
    "plot_confusion_matrix(cm, ['0', '1'], )\n",
    "pr, tpr, fpr = show_data(cm, print_res = 1);\n",
    "print('F1 Score = {:.6f}'.format(f1_score(y_eval, y_pred)))\n",
    "print('Macro F1 Score = {:.6f}'.format(f1_score(y_eval, pred_cv_best, average='macro')))"
   ]
  },
  {
   "cell_type": "code",
   "execution_count": 89,
   "metadata": {},
   "outputs": [],
   "source": [
    "def predict_test_set(model, test_features_df, submission_no):\n",
    "    global thresh\n",
    "    \n",
    "    test_pred = model.predict(xgb.DMatrix(test_features_df))\n",
    "    \n",
    "    test_pred [test_pred > thresh] = 1\n",
    "    test_pred [test_pred <= thresh] = 0\n",
    "    \n",
    "    submission_df = pd.read_csv('../sample_submission.csv',index_col=\"tripid\")\n",
    "    \n",
    "    # Make sure we have the rows in the same order\n",
    "    np.testing.assert_array_equal(test_features_df.index.values, submission_df.index.values)\n",
    "    \n",
    "    # Save predictions to submission data frame\n",
    "    submission_df[\"prediction\"] = test_pred\n",
    "    \n",
    "    submission_df['prediction'] = submission_df['prediction'].astype(int)\n",
    "\n",
    "    submission_df.to_csv(f'../submission{submission_no}.csv', index=True)"
   ]
  },
  {
   "cell_type": "code",
   "execution_count": 90,
   "metadata": {},
   "outputs": [],
   "source": [
    "predict_test_set(xgb_final, test_features_df, 5)"
   ]
  },
  {
   "cell_type": "code",
   "execution_count": null,
   "metadata": {},
   "outputs": [],
   "source": [
    "from sklearn.model_selection import RandomizedSearchCV\n",
    "from pprint import pprint\n",
    "\n",
    "# Number of trees in random forest\n",
    "n_estimators = [int(x) for x in np.linspace(start = 150, stop = 400, num = 5)]\n",
    "# Number of features to consider at every split\n",
    "max_features = ['auto', 'sqrt']\n",
    "# Maximum number of levels in tree\n",
    "max_depth = [int(x) for x in np.linspace(30, 70, num = 3)]\n",
    "# Minimum number of samples required to split a node\n",
    "min_samples_split = [2,5]\n",
    "\n",
    "eta': (0, 1),\n",
    "            'gamma': (0, 2),\n",
    "            'max_depth': (5, 15),\n",
    "            'subsample': (0, 1),\n",
    "            'lambda_val': (0, 3),\n",
    "            'num_parallel_tree': (7, 17)\n",
    "\n",
    "\n",
    "# Create the random grid\n",
    "random_grid = {'n_estimators': n_estimators,\n",
    "               'max_features': max_features,\n",
    "               'max_depth': max_depth,\n",
    "               'min_samples_split': min_samples_split}"
   ]
  }
 ],
 "metadata": {
  "colab": {
   "name": "Fare Classification - XGBoost - Submission 5.ipynb",
   "provenance": []
  },
  "kernelspec": {
   "display_name": "Python 3",
   "language": "python",
   "name": "python3"
  },
  "language_info": {
   "codemirror_mode": {
    "name": "ipython",
    "version": 3
   },
   "file_extension": ".py",
   "mimetype": "text/x-python",
   "name": "python",
   "nbconvert_exporter": "python",
   "pygments_lexer": "ipython3",
   "version": "3.7.6"
  }
 },
 "nbformat": 4,
 "nbformat_minor": 1
}
