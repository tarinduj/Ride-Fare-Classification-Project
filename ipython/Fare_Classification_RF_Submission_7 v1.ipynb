{
 "cells": [
  {
   "cell_type": "code",
   "execution_count": 1,
   "metadata": {
    "colab": {},
    "colab_type": "code",
    "id": "0JVc_RTC7Dv8"
   },
   "outputs": [],
   "source": [
    "import numpy as np\n",
    "import pandas as pd"
   ]
  },
  {
   "cell_type": "code",
   "execution_count": 2,
   "metadata": {
    "colab": {
     "base_uri": "https://localhost:8080/",
     "height": 640
    },
    "colab_type": "code",
    "id": "Jh4stD3i9n8X",
    "outputId": "8c5c2e45-d9ae-4e53-b397-c20568ccdc0d"
   },
   "outputs": [],
   "source": [
    "train_df = pd.read_csv('../train.csv',index_col=\"tripid\")"
   ]
  },
  {
   "cell_type": "code",
   "execution_count": 3,
   "metadata": {
    "colab": {
     "base_uri": "https://localhost:8080/",
     "height": 282
    },
    "colab_type": "code",
    "id": "YPgNo12c9s5C",
    "outputId": "3b71a187-d1b9-4614-daa9-a7849eb521e1"
   },
   "outputs": [
    {
     "data": {
      "text/plain": [
       "<matplotlib.legend.Legend at 0x11a9b0fd0>"
      ]
     },
     "execution_count": 3,
     "metadata": {},
     "output_type": "execute_result"
    },
    {
     "data": {
      "image/png": "[encoded data removed]",
      "text/plain": [
       "<Figure size 432x288 with 1 Axes>"
      ]
     },
     "metadata": {
      "needs_background": "light"
     },
     "output_type": "display_data"
    }
   ],
   "source": [
    "ax = pd.DataFrame({'not null': train_df.count(),\n",
    "                   'null': train_df.isnull().sum()}).plot.barh(stacked=True)\n",
    "\n",
    "ax.legend(\n",
    "    loc='center left', \n",
    "    bbox_to_anchor=(1.05, 0.5)\n",
    ")"
   ]
  },
  {
   "cell_type": "code",
   "execution_count": 4,
   "metadata": {
    "colab": {
     "base_uri": "https://localhost:8080/",
     "height": 282
    },
    "colab_type": "code",
    "id": "4BNRLgwX9xu-",
    "outputId": "6e58ff11-c7f0-4824-b8f6-7d9895e0167f"
   },
   "outputs": [
    {
     "data": {
      "text/plain": [
       "<matplotlib.axes._subplots.AxesSubplot at 0x11a541810>"
      ]
     },
     "execution_count": 4,
     "metadata": {},
     "output_type": "execute_result"
    },
    {
     "data": {
      "image/png": "[encoded data removed]",
      "text/plain": [
       "<Figure size 432x288 with 1 Axes>"
      ]
     },
     "metadata": {
      "needs_background": "light"
     },
     "output_type": "display_data"
    }
   ],
   "source": [
    "train_df['label'].value_counts().plot.barh()"
   ]
  },
  {
   "cell_type": "code",
   "execution_count": 5,
   "metadata": {
    "colab": {},
    "colab_type": "code",
    "id": "jbTdKXF991AB"
   },
   "outputs": [],
   "source": [
    "from sklearn.preprocessing import label_binarize\n",
    "from sklearn.impute import KNNImputer\n",
    "from sklearn.preprocessing import RobustScaler\n",
    "\n",
    "RANDOM_SEED = 42  "
   ]
  },
  {
   "cell_type": "code",
   "execution_count": 6,
   "metadata": {
    "colab": {},
    "colab_type": "code",
    "id": "p7rCO8W1-Vfc"
   },
   "outputs": [],
   "source": [
    "labels_raw_df = train_df.loc[:, train_df.columns == 'label']\n",
    "features_raw_df = train_df.drop(columns=['label'])"
   ]
  },
  {
   "cell_type": "code",
   "execution_count": 7,
   "metadata": {
    "colab": {},
    "colab_type": "code",
    "id": "utbl_I_s-AG1"
   },
   "outputs": [],
   "source": [
    "def preprocess_labels(input_labels_df):\n",
    "  labels_df = input_labels_df\n",
    "  labels_df = pd.DataFrame(label_binarize(labels_df, classes=['incorrrect', 'correct']))\n",
    "  \n",
    "  labels_df.columns = labels_df.columns\n",
    "  labels_df.index = labels_df.index\n",
    "\n",
    "  return labels_df  "
   ]
  },
  {
   "cell_type": "code",
   "execution_count": 8,
   "metadata": {
    "colab": {},
    "colab_type": "code",
    "id": "VIelf6WF0O1t"
   },
   "outputs": [],
   "source": [
    "labels_df = preprocess_labels(labels_raw_df)"
   ]
  },
  {
   "cell_type": "code",
   "execution_count": 9,
   "metadata": {
    "colab": {},
    "colab_type": "code",
    "id": "epQrAO2J0WCi"
   },
   "outputs": [],
   "source": [
    "def preprocess_features(input_features_df):\n",
    "  features_df = input_features_df.copy()\n",
    "  numeric_cols = features_df.columns[features_df.dtypes != \"object\"].values \n",
    "  non_numeric_cols = features_df.columns[features_df.dtypes == \"object\"].values\n",
    "\n",
    "  #numeric\n",
    "  #scale features\n",
    "  scaler = RobustScaler()\n",
    "  features_df[numeric_cols] = scaler.fit_transform(features_df[numeric_cols])\n",
    "\n",
    "  #impute missing values\n",
    "  imputer = KNNImputer()\n",
    "  features_df[numeric_cols] = imputer.fit_transform(features_df[numeric_cols])\n",
    "\n",
    "  #date time\n",
    "  features_df['pickup_time'] = pd.to_datetime(features_df['pickup_time'])\n",
    "  features_df['drop_time'] = pd.to_datetime(features_df['drop_time'])\n",
    "  \n",
    "  #get day of the week\n",
    "  features_df['pickup_day_of_week'] = features_df['pickup_time'].dt.day_name()\n",
    "  features_df['drop_day_of_week'] = features_df['drop_time'].dt.day_name()\n",
    "  \n",
    "  features_df['pickup_hour_float'] = features_df['pickup_time'].dt.hour + features_df['pickup_time'].dt.minute/60\n",
    "  features_df['drop_hour_float'] = features_df['drop_time'].dt.hour + features_df['drop_time'].dt.minute/60\n",
    "\n",
    "  #encode cyclic 24 hours with sin and cos\n",
    "  features_df['sin_pickup_time'] = np.sin(2*np.pi*features_df.pickup_hour_float/24.)\n",
    "  features_df['cos_pickup_time'] = np.cos(2*np.pi*features_df.pickup_hour_float/24.)\n",
    "\n",
    "  features_df['sin_drop_time'] = np.sin(2*np.pi*features_df.drop_hour_float/24.)\n",
    "  features_df['cos_drop_time'] = np.cos(2*np.pi*features_df.drop_hour_float/24.)\n",
    "\n",
    "  #get weekday or weekend\n",
    "  weekenddays = ['Saturday', 'Sunday']\n",
    "\n",
    "  features_df['pickup_weekday'] = np.where(features_df['pickup_day_of_week'].isin(weekenddays), 0, 1)\n",
    "  features_df['drop_weekday'] = np.where(features_df['drop_day_of_week'].isin(weekenddays), 0, 1)\n",
    "  \n",
    "  features_df = pd.get_dummies(features_df, columns = ['pickup_day_of_week', 'drop_day_of_week'])\n",
    "  \n",
    "  features_df = features_df.drop(columns=['pickup_time','drop_time'])\n",
    "  \n",
    "  return features_df"
   ]
  },
  {
   "cell_type": "code",
   "execution_count": 10,
   "metadata": {
    "colab": {},
    "colab_type": "code",
    "id": "nhMgLx9o1DDc"
   },
   "outputs": [],
   "source": [
    "features_df = preprocess_features(features_raw_df)"
   ]
  },
  {
   "cell_type": "code",
   "execution_count": 85,
   "metadata": {
    "colab": {},
    "colab_type": "code",
    "id": "d6ut0tUDF-xR"
   },
   "outputs": [],
   "source": [
    "test_features_raw_df = pd.read_csv('../test.csv',index_col=\"tripid\")\n",
    "test_features_df = preprocess_features(test_features_raw_df)"
   ]
  },
  {
   "cell_type": "code",
   "execution_count": 12,
   "metadata": {
    "colab": {},
    "colab_type": "code",
    "id": "qVdzbd8tCWrR"
   },
   "outputs": [],
   "source": [
    "import xgboost as xgb\n",
    "from xgboost.sklearn import XGBClassifier\n",
    "\n",
    "from sklearn.ensemble import RandomForestClassifier\n",
    "\n",
    "from sklearn.metrics import f1_score, confusion_matrix\n",
    "\n",
    "from sklearn.model_selection import train_test_split, cross_val_score\n",
    "\n",
    "from bayes_opt import BayesianOptimization\n",
    "\n",
    "RANDOM_SEED = 4\n",
    "thresh = 5"
   ]
  },
  {
   "cell_type": "code",
   "execution_count": 13,
   "metadata": {},
   "outputs": [],
   "source": [
    "#Bayesian optimization\n",
    "def bayesian_optimization(dataset, function, parameters):\n",
    "   x_train, y_train, x_eval, y_eval = dataset\n",
    "   n_iterations = 5\n",
    "   gp_params = {\"alpha\": 1e-4}\n",
    "\n",
    "   BO = BayesianOptimization(function, parameters)\n",
    "   BO.maximize(n_iter=n_iterations, **gp_params)\n",
    "\n",
    "   return BO.max"
   ]
  },
  {
   "cell_type": "code",
   "execution_count": 14,
   "metadata": {},
   "outputs": [],
   "source": [
    "def rfc_optimization(cv_splits):\n",
    "    def function(n_estimators, max_depth, min_samples_split):\n",
    "        return cross_val_score(\n",
    "               RandomForestClassifier(\n",
    "                   n_estimators=int(max(n_estimators,0)),                                                               \n",
    "                   max_depth=int(max(max_depth,1)),\n",
    "                   min_samples_split=int(max(min_samples_split,2)), \n",
    "                   n_jobs=-1, \n",
    "                   random_state=RANDOM_SEED,   \n",
    "                   class_weight=\"balanced\"),  \n",
    "               X=x_train, \n",
    "               y=y_train, \n",
    "               cv=cv_splits,\n",
    "               scoring=\"f1\",\n",
    "               n_jobs=-1).mean()\n",
    "\n",
    "    parameters = {\"n_estimators\": (30, 500),\n",
    "                  \"max_depth\": (100, 250),\n",
    "                  \"min_samples_split\": (2, 7)}\n",
    "    \n",
    "    return function, parameters"
   ]
  },
  {
   "cell_type": "code",
   "execution_count": 15,
   "metadata": {},
   "outputs": [],
   "source": [
    "def train(x_train, y_train, x_eval, y_eval, function, parameters):\n",
    "    dataset = (x_train, y_train, x_eval, y_eval )\n",
    "    cv_splits = 4\n",
    "    \n",
    "    best_solution = bayesian_optimization(dataset, function, parameters)      \n",
    "    params = best_solution[\"params\"]\n",
    "\n",
    "    model = RandomForestClassifier(\n",
    "             n_estimators=int(max(params[\"n_estimators\"], 0)),\n",
    "             max_depth=int(max(params[\"max_depth\"], 1)),\n",
    "             min_samples_split=int(max(params[\"min_samples_split\"], 2)), \n",
    "             n_jobs=-1, \n",
    "             random_state=42,   \n",
    "             class_weight=\"balanced\")\n",
    "\n",
    "    model.fit(x_train, y_train)\n",
    "    \n",
    "    return model"
   ]
  },
  {
   "cell_type": "code",
   "execution_count": 16,
   "metadata": {},
   "outputs": [],
   "source": [
    "function, parameters = rfc_optimization(3)"
   ]
  },
  {
   "cell_type": "code",
   "execution_count": 17,
   "metadata": {},
   "outputs": [],
   "source": [
    "x_train, x_eval, y_train, y_eval = train_test_split(\n",
    "    features_df,\n",
    "    labels_df,\n",
    "    test_size=0.2,\n",
    "    shuffle=True,\n",
    "    stratify=labels_df,\n",
    "    random_state=RANDOM_SEED\n",
    ")"
   ]
  },
  {
   "cell_type": "code",
   "execution_count": 18,
   "metadata": {},
   "outputs": [
    {
     "name": "stdout",
     "output_type": "stream",
     "text": [
      "|   iter    |  target   | max_depth | min_sa... | n_esti... |\n",
      "-------------------------------------------------------------\n",
      "| \u001b[0m 1       \u001b[0m | \u001b[0m 0.9593  \u001b[0m | \u001b[0m 191.2   \u001b[0m | \u001b[0m 5.131   \u001b[0m | \u001b[0m 146.3   \u001b[0m |\n",
      "| \u001b[0m 2       \u001b[0m | \u001b[0m 0.9584  \u001b[0m | \u001b[0m 174.7   \u001b[0m | \u001b[0m 4.213   \u001b[0m | \u001b[0m 491.5   \u001b[0m |\n",
      "| \u001b[0m 3       \u001b[0m | \u001b[0m 0.9579  \u001b[0m | \u001b[0m 109.9   \u001b[0m | \u001b[0m 3.622   \u001b[0m | \u001b[0m 47.28   \u001b[0m |\n",
      "| \u001b[0m 4       \u001b[0m | \u001b[0m 0.9575  \u001b[0m | \u001b[0m 201.3   \u001b[0m | \u001b[0m 2.183   \u001b[0m | \u001b[0m 84.0    \u001b[0m |\n",
      "| \u001b[0m 5       \u001b[0m | \u001b[0m 0.9592  \u001b[0m | \u001b[0m 122.1   \u001b[0m | \u001b[0m 4.326   \u001b[0m | \u001b[0m 36.93   \u001b[0m |\n",
      "| \u001b[0m 6       \u001b[0m | \u001b[0m 0.9591  \u001b[0m | \u001b[0m 247.5   \u001b[0m | \u001b[0m 5.233   \u001b[0m | \u001b[0m 499.5   \u001b[0m |\n",
      "| \u001b[0m 7       \u001b[0m | \u001b[0m 0.9583  \u001b[0m | \u001b[0m 101.7   \u001b[0m | \u001b[0m 4.55    \u001b[0m | \u001b[0m 500.0   \u001b[0m |\n",
      "| \u001b[0m 8       \u001b[0m | \u001b[0m 0.9579  \u001b[0m | \u001b[0m 247.1   \u001b[0m | \u001b[0m 2.739   \u001b[0m | \u001b[0m 499.2   \u001b[0m |\n",
      "| \u001b[0m 9       \u001b[0m | \u001b[0m 0.9592  \u001b[0m | \u001b[0m 248.9   \u001b[0m | \u001b[0m 5.558   \u001b[0m | \u001b[0m 34.36   \u001b[0m |\n",
      "| \u001b[0m 10      \u001b[0m | \u001b[0m 0.958   \u001b[0m | \u001b[0m 103.2   \u001b[0m | \u001b[0m 3.829   \u001b[0m | \u001b[0m 498.4   \u001b[0m |\n",
      "=============================================================\n"
     ]
    }
   ],
   "source": [
    "model = train(x_train, y_train.values.ravel(), x_eval, y_eval.values.ravel(), function, parameters)"
   ]
  },
  {
   "cell_type": "code",
   "execution_count": 19,
   "metadata": {},
   "outputs": [
    {
     "data": {
      "text/plain": [
       "RandomForestClassifier(bootstrap=True, ccp_alpha=0.0, class_weight='balanced',\n",
       "                       criterion='gini', max_depth=191, max_features='auto',\n",
       "                       max_leaf_nodes=None, max_samples=None,\n",
       "                       min_impurity_decrease=0.0, min_impurity_split=None,\n",
       "                       min_samples_leaf=1, min_samples_split=5,\n",
       "                       min_weight_fraction_leaf=0.0, n_estimators=146,\n",
       "                       n_jobs=-1, oob_score=False, random_state=42, verbose=0,\n",
       "                       warm_start=False)"
      ]
     },
     "execution_count": 19,
     "metadata": {},
     "output_type": "execute_result"
    }
   ],
   "source": [
    "model"
   ]
  },
  {
   "cell_type": "code",
   "execution_count": 20,
   "metadata": {},
   "outputs": [],
   "source": [
    "y_pred = model.predict(x_eval)"
   ]
  },
  {
   "cell_type": "code",
   "execution_count": 21,
   "metadata": {},
   "outputs": [
    {
     "name": "stdout",
     "output_type": "stream",
     "text": [
      "F1 score: 0.959301\n",
      "F1 score: 0.695337\n"
     ]
    }
   ],
   "source": [
    "print('F1 score: {:.6f}'.format(f1_score(y_eval, y_pred)))\n",
    "print('F1 score: {:.6f}'.format(f1_score(y_eval, y_pred, average='macro')))"
   ]
  },
  {
   "cell_type": "code",
   "execution_count": 22,
   "metadata": {},
   "outputs": [],
   "source": [
    "from sklearn.metrics import roc_curve, auc\n",
    "import matplotlib.pyplot as plt\n",
    "\n",
    "n_estimators = [1, 2, 4, 8, 16, 32, 64, 100, 200]\n",
    "train_results = []\n",
    "test_results = []\n",
    "for estimator in n_estimators:\n",
    "    rf = RandomForestClassifier(n_estimators=estimator, bootstrap=True, ccp_alpha=0.0, class_weight='balanced',\n",
    "                           criterion='gini', max_depth=149, max_features='auto',\n",
    "                           max_leaf_nodes=None, max_samples=None,\n",
    "                           min_impurity_decrease=0.0, min_impurity_split=None,\n",
    "                           min_samples_leaf=1, min_samples_split=7,\n",
    "                           min_weight_fraction_leaf=0.0,\n",
    "                           n_jobs=-1, oob_score=False, random_state=42, verbose=0,\n",
    "                           warm_start=False)\n",
    "    rf.fit(x_train, y_train.values.ravel())\n",
    "    train_pred = rf.predict(x_train)\n",
    "    f1 = f1_score(train_pred, y_train)\n",
    "    train_results.append(f1)\n",
    "    y_pred = rf.predict(x_eval)\n",
    "    f1 = f1_score(y_pred, y_eval)\n",
    "    test_results.append(f1)"
   ]
  },
  {
   "cell_type": "code",
   "execution_count": 23,
   "metadata": {},
   "outputs": [
    {
     "data": {
      "image/png": "[encoded data removed]",
      "text/plain": [
       "<Figure size 432x288 with 1 Axes>"
      ]
     },
     "metadata": {
      "needs_background": "light"
     },
     "output_type": "display_data"
    },
    {
     "name": "stdout",
     "output_type": "stream",
     "text": [
      "Max F1 Score at >  7  :   0.9605365777569802\n"
     ]
    }
   ],
   "source": [
    "from matplotlib.legend_handler import HandlerLine2D\n",
    "line1, = plt.plot(n_estimators, train_results, 'b', label='Train F1')\n",
    "line2, = plt.plot(n_estimators, test_results, 'r', label='Test F1')\n",
    "plt.legend(handler_map={line1: HandlerLine2D(numpoints=2)})\n",
    "plt.ylabel('F1 score')\n",
    "plt.xlabel('n_estimators')\n",
    "plt.show()\n",
    "\n",
    "import operator\n",
    "max_index, max_value = max(enumerate(test_results), key=operator.itemgetter(1))\n",
    "print(\"Max F1 Score at > \",max_index+1, \" :  \", max_value)"
   ]
  },
  {
   "cell_type": "code",
   "execution_count": 24,
   "metadata": {},
   "outputs": [],
   "source": [
    "max_depths = np.linspace(1, 240, 32, endpoint=True)\n",
    "train_results = []\n",
    "test_results = []\n",
    "for max_depth in max_depths:\n",
    "    rf = RandomForestClassifier(n_estimators=25, bootstrap=True, ccp_alpha=0.0, class_weight='balanced',\n",
    "                           criterion='gini', max_depth=max_depth, max_features='auto',\n",
    "                           max_leaf_nodes=None, max_samples=None,\n",
    "                           min_impurity_decrease=0.0, min_impurity_split=None,\n",
    "                           min_samples_leaf=1, min_samples_split=7,\n",
    "                           min_weight_fraction_leaf=0.0,\n",
    "                           n_jobs=-1, oob_score=False, random_state=42, verbose=0,\n",
    "                           warm_start=False)\n",
    "    rf.fit(x_train, y_train.values.ravel())\n",
    "    train_pred = rf.predict(x_train)\n",
    "    f1 = f1_score(train_pred, y_train)\n",
    "    train_results.append(f1)\n",
    "    y_pred = rf.predict(x_eval)\n",
    "    f1 = f1_score(y_pred, y_eval)\n",
    "    test_results.append(f1)"
   ]
  },
  {
   "cell_type": "code",
   "execution_count": 25,
   "metadata": {},
   "outputs": [
    {
     "data": {
      "image/png": "[encoded data removed]",
      "text/plain": [
       "<Figure size 432x288 with 1 Axes>"
      ]
     },
     "metadata": {
      "needs_background": "light"
     },
     "output_type": "display_data"
    },
    {
     "name": "stdout",
     "output_type": "stream",
     "text": [
      "Max F1 Score at >  5  :   0.9601375644833516\n"
     ]
    }
   ],
   "source": [
    "from matplotlib.legend_handler import HandlerLine2D\n",
    "line1, = plt.plot(max_depths, train_results, 'b', label='Train F1')\n",
    "line2, = plt.plot(max_depths, test_results, 'r', label='Test F1')\n",
    "plt.legend(handler_map={line1: HandlerLine2D(numpoints=2)})\n",
    "plt.ylabel('F1 score')\n",
    "plt.xlabel('max_depths')\n",
    "plt.show()\n",
    "\n",
    "import operator\n",
    "max_index, max_value = max(enumerate(test_results), key=operator.itemgetter(1))\n",
    "print(\"Max F1 Score at > \",max_index+1, \" :  \", max_value)"
   ]
  },
  {
   "cell_type": "code",
   "execution_count": 26,
   "metadata": {},
   "outputs": [],
   "source": [
    "min_samples_splits = np.linspace(2, 30, 10, endpoint=True)\n",
    "train_results = []\n",
    "test_results = []\n",
    "for min_samples_split in min_samples_splits:\n",
    "    rf = RandomForestClassifier(n_estimators=25, bootstrap=True, ccp_alpha=0.0, class_weight='balanced',\n",
    "                           criterion='gini', max_depth=50, max_features='auto',\n",
    "                           max_leaf_nodes=None, max_samples=None,\n",
    "                           min_impurity_decrease=0.0, min_impurity_split=None,\n",
    "                           min_samples_leaf=1, min_samples_split=int(min_samples_split),\n",
    "                           min_weight_fraction_leaf=0.0,\n",
    "                           n_jobs=-1, oob_score=False, random_state=42, verbose=0,\n",
    "                           warm_start=False)\n",
    "    rf.fit(x_train, y_train.values.ravel())\n",
    "    train_pred = rf.predict(x_train)\n",
    "    f1 = f1_score(train_pred, y_train)\n",
    "    train_results.append(f1)\n",
    "    y_pred = rf.predict(x_eval)\n",
    "    f1 = f1_score(y_pred, y_eval)\n",
    "    test_results.append(f1)"
   ]
  },
  {
   "cell_type": "code",
   "execution_count": 27,
   "metadata": {},
   "outputs": [
    {
     "data": {
      "image/png": "[encoded data removed]",
      "text/plain": [
       "<Figure size 432x288 with 1 Axes>"
      ]
     },
     "metadata": {
      "needs_background": "light"
     },
     "output_type": "display_data"
    },
    {
     "name": "stdout",
     "output_type": "stream",
     "text": [
      "Max F1 Score at >  4  :   0.9605386783589102\n"
     ]
    }
   ],
   "source": [
    "from matplotlib.legend_handler import HandlerLine2D\n",
    "line1, = plt.plot(min_samples_splits, train_results, 'b', label='Train F1')\n",
    "line2, = plt.plot(min_samples_splits, test_results, 'r', label='Test F1')\n",
    "plt.legend(handler_map={line1: HandlerLine2D(numpoints=2)})\n",
    "plt.ylabel('F1 score')\n",
    "plt.xlabel('min_samples_splits')\n",
    "plt.show()\n",
    "\n",
    "import operator\n",
    "max_index, max_value = max(enumerate(test_results), key=operator.itemgetter(1))\n",
    "print(\"Max F1 Score at > \",max_index+1, \" :  \", max_value)"
   ]
  },
  {
   "cell_type": "code",
   "execution_count": 28,
   "metadata": {},
   "outputs": [],
   "source": [
    "min_samples_leafs = np.linspace(1, 10, 10, endpoint=True)\n",
    "train_results = []\n",
    "test_results = []\n",
    "for min_samples_leaf in min_samples_leafs:\n",
    "    rf = RandomForestClassifier(n_estimators=25, bootstrap=True, ccp_alpha=0.0, class_weight='balanced',\n",
    "                           criterion='gini', max_depth=50, max_features='auto',\n",
    "                           max_leaf_nodes=None, max_samples=None,\n",
    "                           min_impurity_decrease=0.0, min_impurity_split=None,\n",
    "                           min_samples_leaf=int(min_samples_leaf), min_samples_split=11,\n",
    "                           min_weight_fraction_leaf=0.0,\n",
    "                           n_jobs=-1, oob_score=False, random_state=42, verbose=0,\n",
    "                           warm_start=False)\n",
    "    rf.fit(x_train, y_train.values.ravel())\n",
    "    train_pred = rf.predict(x_train)\n",
    "    f1 = f1_score(train_pred, y_train)\n",
    "    train_results.append(f1)\n",
    "    y_pred = rf.predict(x_eval)\n",
    "    f1 = f1_score(y_pred, y_eval)\n",
    "    test_results.append(f1)"
   ]
  },
  {
   "cell_type": "code",
   "execution_count": 29,
   "metadata": {},
   "outputs": [
    {
     "data": {
      "image/png": "[encoded data removed]",
      "text/plain": [
       "<Figure size 432x288 with 1 Axes>"
      ]
     },
     "metadata": {
      "needs_background": "light"
     },
     "output_type": "display_data"
    },
    {
     "name": "stdout",
     "output_type": "stream",
     "text": [
      "Max F1 Score at >  1  :   0.9605386783589102\n"
     ]
    }
   ],
   "source": [
    "from matplotlib.legend_handler import HandlerLine2D\n",
    "line1, = plt.plot(min_samples_leafs, train_results, 'b', label='Train F1')\n",
    "line2, = plt.plot(min_samples_leafs, test_results, 'r', label='Test F1')\n",
    "plt.legend(handler_map={line1: HandlerLine2D(numpoints=2)})\n",
    "plt.ylabel('F1 score')\n",
    "plt.xlabel('min_samples_leafs')\n",
    "plt.show()\n",
    "\n",
    "import operator\n",
    "max_index, max_value = max(enumerate(test_results), key=operator.itemgetter(1))\n",
    "print(\"Max F1 Score at > \",max_index+1, \" :  \", max_value)"
   ]
  },
  {
   "cell_type": "code",
   "execution_count": 64,
   "metadata": {},
   "outputs": [],
   "source": [
    "max_features = list(range(1,x_train.shape[1]))\n",
    "train_results = []\n",
    "test_results = []\n",
    "\n",
    "for max_feature in max_features:\n",
    "    rf = RandomForestClassifier(n_estimators=25, bootstrap=True, ccp_alpha=0.0, class_weight='balanced',\n",
    "                           criterion='gini', max_depth=50, max_features=max_feature,\n",
    "                           max_leaf_nodes=None, max_samples=None,\n",
    "                           min_impurity_decrease=0.0, min_impurity_split=None,\n",
    "                           min_samples_leaf=2, min_samples_split=11,\n",
    "                           min_weight_fraction_leaf=0.0,\n",
    "                           n_jobs=-1, oob_score=False, random_state=42, verbose=0,\n",
    "                           warm_start=False)\n",
    "    rf.fit(x_train, y_train.values.ravel())\n",
    "    train_pred = rf.predict(x_train)\n",
    "    f1 = f1_score(train_pred, y_train)\n",
    "    train_results.append(f1)\n",
    "    y_pred = rf.predict(x_eval)\n",
    "    f1 = f1_score(y_pred, y_eval)\n",
    "    test_results.append(f1)"
   ]
  },
  {
   "cell_type": "code",
   "execution_count": 84,
   "metadata": {},
   "outputs": [
    {
     "data": {
      "image/png": "[encoded data removed]",
      "text/plain": [
       "<Figure size 640x480 with 1 Axes>"
      ]
     },
     "metadata": {},
     "output_type": "display_data"
    },
    {
     "name": "stdout",
     "output_type": "stream",
     "text": [
      "Max F1 Score at >  21  :   0.9639281741617671\n"
     ]
    }
   ],
   "source": [
    "from matplotlib.legend_handler import HandlerLine2D\n",
    "line1, = plt.plot(max_features, train_results, 'b', label='Train F1')\n",
    "line2, = plt.plot(max_features, test_results, 'r', label='Test F1')\n",
    "plt.legend(handler_map={line1: HandlerLine2D(numpoints=2)})\n",
    "plt.ylabel('F1 score')\n",
    "plt.xlabel('max_features')\n",
    "plt.show()\n",
    "\n",
    "import operator\n",
    "max_index, max_value = max(enumerate(test_results), key=operator.itemgetter(1))\n",
    "print(\"Max F1 Score at > \",max_index+1, \" :  \", max_value)"
   ]
  },
  {
   "cell_type": "code",
   "execution_count": 72,
   "metadata": {},
   "outputs": [
    {
     "data": {
      "text/plain": [
       "RandomForestClassifier(bootstrap=True, ccp_alpha=0.0, class_weight='balanced',\n",
       "                       criterion='gini', max_depth=50, max_features=21,\n",
       "                       max_leaf_nodes=None, max_samples=None,\n",
       "                       min_impurity_decrease=0.0, min_impurity_split=None,\n",
       "                       min_samples_leaf=2, min_samples_split=11,\n",
       "                       min_weight_fraction_leaf=0.0, n_estimators=25, n_jobs=-1,\n",
       "                       oob_score=False, random_state=42, verbose=0,\n",
       "                       warm_start=False)"
      ]
     },
     "execution_count": 72,
     "metadata": {},
     "output_type": "execute_result"
    }
   ],
   "source": [
    "rf = RandomForestClassifier(n_estimators=25, bootstrap=True, ccp_alpha=0.0, class_weight='balanced',\n",
    "                           criterion='gini', max_depth=50, max_features=21,\n",
    "                           max_leaf_nodes=None, max_samples=None,\n",
    "                           min_impurity_decrease=0.0, min_impurity_split=None,\n",
    "                           min_samples_leaf=2, min_samples_split=11,\n",
    "                           min_weight_fraction_leaf=0.0,\n",
    "                           n_jobs=-1, oob_score=False, random_state=42, verbose=0,\n",
    "                           warm_start=False)\n",
    "\n",
    "rf.fit(x_train, y_train.values.ravel())"
   ]
  },
  {
   "cell_type": "code",
   "execution_count": 73,
   "metadata": {},
   "outputs": [
    {
     "data": {
      "text/plain": [
       "array([1, 1, 1, ..., 1, 0, 1])"
      ]
     },
     "execution_count": 73,
     "metadata": {},
     "output_type": "execute_result"
    }
   ],
   "source": [
    "y_pred = rf.predict(x_eval)\n",
    "y_pred"
   ]
  },
  {
   "cell_type": "code",
   "execution_count": 74,
   "metadata": {},
   "outputs": [
    {
     "name": "stdout",
     "output_type": "stream",
     "text": [
      "F1 score: 0.9639281741617671\n",
      "F1 score: 0.7859364532294155\n"
     ]
    }
   ],
   "source": [
    "print(f'F1 score: {f1_score(y_eval, y_pred)}')\n",
    "print(f'F1 score: {f1_score(y_eval, y_pred, average=\"macro\")}')"
   ]
  },
  {
   "cell_type": "code",
   "execution_count": 76,
   "metadata": {},
   "outputs": [
    {
     "name": "stdout",
     "output_type": "stream",
     "text": [
      "Variable: duration             Importance: 0.26\n",
      "Variable: fare                 Importance: 0.24\n",
      "Variable: meter_waiting        Importance: 0.07\n",
      "Variable: additional_fare      Importance: 0.06\n",
      "Variable: meter_waiting_till_pickup Importance: 0.05\n",
      "Variable: meter_waiting_fare   Importance: 0.04\n",
      "Variable: pick_lon             Importance: 0.04\n",
      "Variable: pick_lat             Importance: 0.03\n",
      "Variable: drop_lat             Importance: 0.03\n",
      "Variable: drop_lon             Importance: 0.03\n",
      "Variable: cos_pickup_time      Importance: 0.03\n",
      "Variable: pickup_hour_float    Importance: 0.02\n",
      "Variable: drop_hour_float      Importance: 0.02\n",
      "Variable: sin_pickup_time      Importance: 0.02\n",
      "Variable: sin_drop_time        Importance: 0.02\n",
      "Variable: cos_drop_time        Importance: 0.02\n",
      "Variable: pickup_weekday       Importance: 0.0\n",
      "Variable: drop_weekday         Importance: 0.0\n",
      "Variable: pickup_day_of_week_Friday Importance: 0.0\n",
      "Variable: pickup_day_of_week_Monday Importance: 0.0\n",
      "Variable: pickup_day_of_week_Saturday Importance: 0.0\n",
      "Variable: pickup_day_of_week_Sunday Importance: 0.0\n",
      "Variable: pickup_day_of_week_Thursday Importance: 0.0\n",
      "Variable: pickup_day_of_week_Tuesday Importance: 0.0\n",
      "Variable: pickup_day_of_week_Wednesday Importance: 0.0\n",
      "Variable: drop_day_of_week_Friday Importance: 0.0\n",
      "Variable: drop_day_of_week_Monday Importance: 0.0\n",
      "Variable: drop_day_of_week_Saturday Importance: 0.0\n",
      "Variable: drop_day_of_week_Sunday Importance: 0.0\n",
      "Variable: drop_day_of_week_Thursday Importance: 0.0\n",
      "Variable: drop_day_of_week_Tuesday Importance: 0.0\n",
      "Variable: drop_day_of_week_Wednesday Importance: 0.0\n"
     ]
    }
   ],
   "source": [
    "feature_list = list(features_df.columns)\n",
    "# Get numerical feature importances\n",
    "importances = list(rf.feature_importances_)\n",
    "# List of tuples with variable and importance\n",
    "feature_importances = [(feature, round(importance, 2)) for feature, importance in zip(feature_list, importances)]\n",
    "# Sort the feature importances by most important first\n",
    "feature_importances = sorted(feature_importances, key = lambda x: x[1], reverse = True)\n",
    "# Print out the feature and importances \n",
    "[print('Variable: {:20} Importance: {}'.format(*pair)) for pair in feature_importances];"
   ]
  },
  {
   "cell_type": "code",
   "execution_count": 83,
   "metadata": {},
   "outputs": [
    {
     "data": {
      "image/png": "[encoded data removed]",
      "text/plain": [
       "<Figure size 640x480 with 1 Axes>"
      ]
     },
     "metadata": {},
     "output_type": "display_data"
    }
   ],
   "source": [
    "# Set the style\n",
    "plt.style.use('ggplot')\n",
    "# list of x locations for plotting\n",
    "x_values = list(range(len(importances)))\n",
    "# Make a bar chart\n",
    "plt.bar(x_values, importances, orientation = 'vertical')\n",
    "# Tick labels for x axis\n",
    "plt.xticks(x_values, feature_list, rotation='vertical')\n",
    "# Axis labels and title\n",
    "plt.ylabel('Importance'); plt.xlabel('Variable'); plt.title('Variable Importances');\n"
   ]
  },
  {
   "cell_type": "code",
   "execution_count": null,
   "metadata": {},
   "outputs": [],
   "source": []
  }
 ],
 "metadata": {
  "colab": {
   "name": "Fare Classification - XGBoost - Submission 5.ipynb",
   "provenance": []
  },
  "kernelspec": {
   "display_name": "Python 3",
   "language": "python",
   "name": "python3"
  },
  "language_info": {
   "codemirror_mode": {
    "name": "ipython",
    "version": 3
   },
   "file_extension": ".py",
   "mimetype": "text/x-python",
   "name": "python",
   "nbconvert_exporter": "python",
   "pygments_lexer": "ipython3",
   "version": "3.7.6"
  }
 },
 "nbformat": 4,
 "nbformat_minor": 1
}
