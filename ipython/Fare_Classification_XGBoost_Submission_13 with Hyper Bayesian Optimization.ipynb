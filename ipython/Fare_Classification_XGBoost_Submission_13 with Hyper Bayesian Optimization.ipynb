{
 "cells": [
  {
   "cell_type": "code",
   "execution_count": 1,
   "metadata": {
    "colab": {},
    "colab_type": "code",
    "id": "0JVc_RTC7Dv8"
   },
   "outputs": [],
   "source": [
    "import numpy as np\n",
    "import pandas as pd"
   ]
  },
  {
   "cell_type": "code",
   "execution_count": 3,
   "metadata": {},
   "outputs": [
    {
     "name": "stdout",
     "output_type": "stream",
     "text": [
      "/Users/tarindujayatilaka/Documents/CSE/Machine Learning /Fare Classification/script\n"
     ]
    }
   ],
   "source": [
    "cd script/\n"
   ]
  },
  {
   "cell_type": "code",
   "execution_count": 4,
   "metadata": {
    "colab": {
     "base_uri": "https://localhost:8080/",
     "height": 640
    },
    "colab_type": "code",
    "id": "Jh4stD3i9n8X",
    "outputId": "8c5c2e45-d9ae-4e53-b397-c20568ccdc0d",
    "scrolled": true
   },
   "outputs": [],
   "source": [
    "train_df = pd.read_csv('../train.csv',index_col=\"tripid\")"
   ]
  },
  {
   "cell_type": "code",
   "execution_count": 5,
   "metadata": {
    "colab": {
     "base_uri": "https://localhost:8080/",
     "height": 282
    },
    "colab_type": "code",
    "id": "YPgNo12c9s5C",
    "outputId": "3b71a187-d1b9-4614-daa9-a7849eb521e1"
   },
   "outputs": [
    {
     "data": {
      "text/plain": [
       "<matplotlib.legend.Legend at 0x1158f50d0>"
      ]
     },
     "execution_count": 5,
     "metadata": {},
     "output_type": "execute_result"
    },
    {
     "data": {
      "image/png": "[encoded data removed]",
      "text/plain": [
       "<Figure size 432x288 with 1 Axes>"
      ]
     },
     "metadata": {
      "needs_background": "light"
     },
     "output_type": "display_data"
    }
   ],
   "source": [
    "ax = pd.DataFrame({'not null': train_df.count(),\n",
    "                   'null': train_df.isnull().sum()}).plot.barh(stacked=True)\n",
    "\n",
    "ax.legend(\n",
    "    loc='center left', \n",
    "    bbox_to_anchor=(1.05, 0.5)\n",
    ")"
   ]
  },
  {
   "cell_type": "code",
   "execution_count": 6,
   "metadata": {
    "colab": {
     "base_uri": "https://localhost:8080/",
     "height": 282
    },
    "colab_type": "code",
    "id": "4BNRLgwX9xu-",
    "outputId": "6e58ff11-c7f0-4824-b8f6-7d9895e0167f"
   },
   "outputs": [
    {
     "data": {
      "text/plain": [
       "<matplotlib.axes._subplots.AxesSubplot at 0x116924790>"
      ]
     },
     "execution_count": 6,
     "metadata": {},
     "output_type": "execute_result"
    },
    {
     "data": {
      "image/png": "[encoded data removed]",
      "text/plain": [
       "<Figure size 432x288 with 1 Axes>"
      ]
     },
     "metadata": {
      "needs_background": "light"
     },
     "output_type": "display_data"
    }
   ],
   "source": [
    "train_df['label'].value_counts().plot.barh()"
   ]
  },
  {
   "cell_type": "code",
   "execution_count": 7,
   "metadata": {
    "colab": {},
    "colab_type": "code",
    "id": "jbTdKXF991AB"
   },
   "outputs": [],
   "source": [
    "from sklearn.preprocessing import label_binarize\n",
    "from sklearn.impute import KNNImputer, SimpleImputer\n",
    "from sklearn.preprocessing import RobustScaler, MinMaxScaler\n",
    "\n",
    "RANDOM_SEED = 42  "
   ]
  },
  {
   "cell_type": "code",
   "execution_count": 8,
   "metadata": {
    "colab": {},
    "colab_type": "code",
    "id": "p7rCO8W1-Vfc"
   },
   "outputs": [],
   "source": [
    "labels_raw_df = train_df.loc[:, train_df.columns == 'label']\n",
    "features_raw_df = train_df.drop(columns=['label'])"
   ]
  },
  {
   "cell_type": "code",
   "execution_count": 9,
   "metadata": {
    "colab": {},
    "colab_type": "code",
    "id": "utbl_I_s-AG1"
   },
   "outputs": [],
   "source": [
    "def preprocess_labels(input_labels_df):\n",
    "  labels_df = input_labels_df\n",
    "  labels_df = pd.DataFrame(label_binarize(labels_df, classes=['incorrrect', 'correct']))\n",
    "  \n",
    "  labels_df.columns = labels_df.columns\n",
    "  labels_df.index = labels_df.index\n",
    "\n",
    "  return labels_df  "
   ]
  },
  {
   "cell_type": "code",
   "execution_count": 10,
   "metadata": {
    "colab": {},
    "colab_type": "code",
    "id": "VIelf6WF0O1t"
   },
   "outputs": [],
   "source": [
    "labels_df = preprocess_labels(labels_raw_df)"
   ]
  },
  {
   "cell_type": "code",
   "execution_count": 11,
   "metadata": {
    "colab": {},
    "colab_type": "code",
    "id": "epQrAO2J0WCi"
   },
   "outputs": [],
   "source": [
    "def preprocess_features(input_features_df):\n",
    "    features_df = input_features_df.copy()\n",
    "\n",
    "    numeric_cols = features_df.columns[features_df.dtypes != \"object\"].values\n",
    "    imputer = SimpleImputer(strategy='mean')\n",
    "    features_df[numeric_cols] = imputer.fit_transform(features_df[numeric_cols])\n",
    "\n",
    "    #date time\n",
    "    features_df['pickup_time'] = pd.to_datetime(features_df['pickup_time'])\n",
    "    features_df['drop_time'] = pd.to_datetime(features_df['drop_time'])\n",
    "\n",
    "    #duration\n",
    "    features_df['duration_fill'] = (features_df['drop_time'] - features_df['pickup_time']).dt.total_seconds()\n",
    "    features_df['duration'] = features_df['duration'].fillna(features_df['duration_fill'])\n",
    "\n",
    "    features_df = features_df.drop(columns=['duration_fill'])\n",
    "\n",
    "    #travel time\n",
    "    features_df['travel_time'] = features_df['duration'] - features_df['meter_waiting']\n",
    "\n",
    "    #waiting time\n",
    "    features_df['waiting_time'] = features_df['meter_waiting'] + features_df['meter_waiting_till_pickup']\n",
    "\n",
    "    #distance fare\n",
    "    features_df['distance_fare'] = features_df['fare'] - features_df['meter_waiting_fare'] - features_df['additional_fare']\n",
    "\n",
    "    #distance\n",
    "    features_df['manhattan_distance'] = abs(features_df['drop_lat'] - features_df['pick_lat']) + abs(features_df['drop_lon'] - features_df['pick_lon'])\n",
    "\n",
    "    #fare per distance unit\n",
    "    #features_df['fare_per_distance_unit'] = features_df['distance_fare']/features_df['manhattan_distance']\n",
    "\n",
    "    #fare per time unit\n",
    "    #features_df['fare_per_time_unit'] = features_df['distance_fare']/features_df['manhattan_distance']\n",
    "\n",
    "    #travel speed\n",
    "    #features_df['speed'] = features_df['manhattan_distance']/features_df['travel_time']\n",
    "\n",
    "    #get day of the week\n",
    "    #features_df['pickup_day_of_week'] = features_df['pickup_time'].dt.day_name()\n",
    "    #features_df['drop_day_of_week'] = features_df['drop_time'].dt.day_name()\n",
    "\n",
    "    features_df['pickup_hour_float'] = features_df['pickup_time'].dt.hour + features_df['pickup_time'].dt.minute/60\n",
    "    features_df['drop_hour_float'] = features_df['drop_time'].dt.hour + features_df['drop_time'].dt.minute/60\n",
    "\n",
    "\n",
    "    #encode cyclic 24 hours with sin and cos\n",
    "    features_df['sin_pickup_time'] = np.sin(2*np.pi*features_df.pickup_hour_float/24.)\n",
    "    features_df['cos_pickup_time'] = np.cos(2*np.pi*features_df.pickup_hour_float/24.)\n",
    "\n",
    "    features_df['sin_drop_time'] = np.sin(2*np.pi*features_df.drop_hour_float/24.)\n",
    "    features_df['cos_drop_time'] = np.cos(2*np.pi*features_df.drop_hour_float/24.)\n",
    "\n",
    "    #features_df = pd.get_dummies(features_df, columns = ['pickup_day_of_week', 'drop_day_of_week'])\n",
    "\n",
    "    features_df = features_df.drop(columns=['pickup_time','drop_time', 'pickup_hour_float', 'drop_hour_float'])\n",
    "\n",
    "    numeric_cols = features_df.columns[features_df.dtypes != \"object\"].values\n",
    "\n",
    "    non_numeric_cols = features_df.columns[features_df.dtypes == \"object\"].values\n",
    "\n",
    "    #numeric\n",
    "    scaler = RobustScaler()\n",
    "    features_df[numeric_cols] = scaler.fit_transform(features_df[numeric_cols])\n",
    "\n",
    "    return features_df\n"
   ]
  },
  {
   "cell_type": "code",
   "execution_count": 12,
   "metadata": {
    "colab": {},
    "colab_type": "code",
    "id": "nhMgLx9o1DDc"
   },
   "outputs": [],
   "source": [
    "features_df = preprocess_features(features_raw_df)"
   ]
  },
  {
   "cell_type": "code",
   "execution_count": 13,
   "metadata": {
    "colab": {},
    "colab_type": "code",
    "id": "d6ut0tUDF-xR"
   },
   "outputs": [],
   "source": [
    "test_features_raw_df = pd.read_csv('../test.csv',index_col=\"tripid\")\n",
    "test_features_df = preprocess_features(test_features_raw_df)"
   ]
  },
  {
   "cell_type": "code",
   "execution_count": 14,
   "metadata": {},
   "outputs": [],
   "source": [
    "from sklearn.model_selection import train_test_split\n",
    "\n",
    "X_train, X_eval, y_train, y_eval = train_test_split(\n",
    "    features_df,\n",
    "    labels_df,\n",
    "    test_size=0.2,\n",
    "    shuffle=True,\n",
    "    stratify=labels_df,\n",
    "    random_state=RANDOM_SEED\n",
    ")"
   ]
  },
  {
   "cell_type": "code",
   "execution_count": 15,
   "metadata": {},
   "outputs": [],
   "source": [
    "import xgboost as xgb\n",
    "\n",
    "dtrain = xgb.DMatrix(X_train, label=y_train)\n",
    "deval = xgb.DMatrix(X_eval, label=y_eval)"
   ]
  },
  {
   "cell_type": "code",
   "execution_count": 16,
   "metadata": {},
   "outputs": [],
   "source": [
    "params = {'learning_rate': 0.7201807130705278, \n",
    "          'min_split_loss': 0.52130800501961, \n",
    "          'n_estimators': 84, \n",
    "          'objective': 'binary:logistic', \n",
    "          'max_depth': 12, \n",
    "          'min_child_weight': 0.312156946780337, \n",
    "          'max_delta_step': 0, \n",
    "          'subsample': 0.5723080843982185, \n",
    "          'num_parallel_tree': 5, \n",
    "          'nthread': -1}\n",
    "\n",
    "\n"
   ]
  },
  {
   "cell_type": "code",
   "execution_count": 19,
   "metadata": {},
   "outputs": [],
   "source": [
    "model = xgb.train(params, dtrain, num_boost_round = 84)"
   ]
  },
  {
   "cell_type": "code",
   "execution_count": 20,
   "metadata": {},
   "outputs": [
    {
     "name": "stdout",
     "output_type": "stream",
     "text": [
      "F1 Score = 0.976190\n",
      "Macro F1 Score = 0.856976\n"
     ]
    }
   ],
   "source": [
    "y_pred = model.predict(xgb.DMatrix(X_eval))\n",
    "\n",
    "thresh = .5\n",
    "y_pred [y_pred > thresh] = 1\n",
    "y_pred [y_pred <= thresh] = 0\n",
    "\n",
    "from sklearn.metrics import f1_score\n",
    "\n",
    "print('F1 Score = {:.6f}'.format(f1_score(y_eval, y_pred)))\n",
    "print('Macro F1 Score = {:.6f}'.format(f1_score(y_eval, y_pred, average='macro')))"
   ]
  },
  {
   "cell_type": "code",
   "execution_count": 21,
   "metadata": {},
   "outputs": [],
   "source": [
    "def predict_test_set(model, test_features_df, submission_no):\n",
    "    thresh = 0.5\n",
    "    \n",
    "    test_pred = model.predict(xgb.DMatrix(test_features_df))\n",
    "    \n",
    "    test_pred [test_pred > thresh] = 1\n",
    "    test_pred [test_pred <= thresh] = 0\n",
    "    \n",
    "    submission_df = pd.read_csv('../sample_submission.csv',index_col=\"tripid\")\n",
    "    \n",
    "    # Make sure we have the rows in the same order\n",
    "    np.testing.assert_array_equal(test_features_df.index.values, submission_df.index.values)\n",
    "    \n",
    "    # Save predictions to submission data frame\n",
    "    submission_df[\"prediction\"] = test_pred\n",
    "    \n",
    "    submission_df['prediction'] = submission_df['prediction'].astype(int)\n",
    "\n",
    "    submission_df.to_csv(f'../submission{submission_no}.csv', index=True)"
   ]
  },
  {
   "cell_type": "code",
   "execution_count": 25,
   "metadata": {},
   "outputs": [],
   "source": [
    "predict_test_set(model, test_features_df, 13)"
   ]
  },
  {
   "cell_type": "code",
   "execution_count": 23,
   "metadata": {},
   "outputs": [],
   "source": [
    "feature_importnace = model.get_score(importance_type='gain')"
   ]
  },
  {
   "cell_type": "code",
   "execution_count": 24,
   "metadata": {},
   "outputs": [
    {
     "data": {
      "text/plain": [
       "<function matplotlib.pyplot.show(*args, **kw)>"
      ]
     },
     "execution_count": 24,
     "metadata": {},
     "output_type": "execute_result"
    },
    {
     "data": {
      "image/png": "[encoded data removed]",
      "text/plain": [
       "<Figure size 432x288 with 1 Axes>"
      ]
     },
     "metadata": {},
     "output_type": "display_data"
    }
   ],
   "source": [
    "import matplotlib.pyplot as plt\n",
    "plt.style.use('ggplot')\n",
    "\n",
    "plt.bar(range(len(feature_importnace)), list(feature_importnace.values()), align='center')\n",
    "plt.xticks(range(len(feature_importnace)), list(feature_importnace.keys()), rotation='vertical')\n",
    "\n",
    "plt.show"
   ]
  },
  {
   "cell_type": "code",
   "execution_count": null,
   "metadata": {},
   "outputs": [],
   "source": []
  }
 ],
 "metadata": {
  "colab": {
   "name": "Fare Classification - XGBoost - Submission 5.ipynb",
   "provenance": []
  },
  "kernelspec": {
   "display_name": "Python 3",
   "language": "python",
   "name": "python3"
  },
  "language_info": {
   "codemirror_mode": {
    "name": "ipython",
    "version": 3
   },
   "file_extension": ".py",
   "mimetype": "text/x-python",
   "name": "python",
   "nbconvert_exporter": "python",
   "pygments_lexer": "ipython3",
   "version": "3.7.6"
  }
 },
 "nbformat": 4,
 "nbformat_minor": 1
}
