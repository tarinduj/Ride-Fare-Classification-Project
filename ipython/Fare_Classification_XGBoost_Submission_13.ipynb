{
 "cells": [
  {
   "cell_type": "code",
   "execution_count": 1,
   "metadata": {
    "colab": {},
    "colab_type": "code",
    "id": "0JVc_RTC7Dv8"
   },
   "outputs": [],
   "source": [
    "import numpy as np\n",
    "import pandas as pd"
   ]
  },
  {
   "cell_type": "code",
   "execution_count": 4,
   "metadata": {},
   "outputs": [
    {
     "name": "stdout",
     "output_type": "stream",
     "text": [
      "/Users/tarindujayatilaka/Documents/CSE/Machine Learning /Fare Classification/script\n"
     ]
    }
   ],
   "source": [
    "cd script/"
   ]
  },
  {
   "cell_type": "code",
   "execution_count": 5,
   "metadata": {
    "colab": {
     "base_uri": "https://localhost:8080/",
     "height": 640
    },
    "colab_type": "code",
    "id": "Jh4stD3i9n8X",
    "outputId": "8c5c2e45-d9ae-4e53-b397-c20568ccdc0d",
    "scrolled": true
   },
   "outputs": [],
   "source": [
    "train_df = pd.read_csv('../train.csv',index_col=\"tripid\")"
   ]
  },
  {
   "cell_type": "code",
   "execution_count": 6,
   "metadata": {
    "colab": {
     "base_uri": "https://localhost:8080/",
     "height": 282
    },
    "colab_type": "code",
    "id": "YPgNo12c9s5C",
    "outputId": "3b71a187-d1b9-4614-daa9-a7849eb521e1"
   },
   "outputs": [
    {
     "data": {
      "text/plain": [
       "<matplotlib.legend.Legend at 0x1208e14d0>"
      ]
     },
     "execution_count": 6,
     "metadata": {},
     "output_type": "execute_result"
    },
    {
     "data": {
      "image/png": "[encoded data removed]",
      "text/plain": [
       "<Figure size 432x288 with 1 Axes>"
      ]
     },
     "metadata": {
      "needs_background": "light"
     },
     "output_type": "display_data"
    }
   ],
   "source": [
    "ax = pd.DataFrame({'not null': train_df.count(),\n",
    "                   'null': train_df.isnull().sum()}).plot.barh(stacked=True)\n",
    "\n",
    "ax.legend(\n",
    "    loc='center left', \n",
    "    bbox_to_anchor=(1.05, 0.5)\n",
    ")"
   ]
  },
  {
   "cell_type": "code",
   "execution_count": 7,
   "metadata": {
    "colab": {
     "base_uri": "https://localhost:8080/",
     "height": 282
    },
    "colab_type": "code",
    "id": "4BNRLgwX9xu-",
    "outputId": "6e58ff11-c7f0-4824-b8f6-7d9895e0167f"
   },
   "outputs": [
    {
     "data": {
      "text/plain": [
       "<matplotlib.axes._subplots.AxesSubplot at 0x121984150>"
      ]
     },
     "execution_count": 7,
     "metadata": {},
     "output_type": "execute_result"
    },
    {
     "data": {
      "image/png": "[encoded data removed]",
      "text/plain": [
       "<Figure size 432x288 with 1 Axes>"
      ]
     },
     "metadata": {
      "needs_background": "light"
     },
     "output_type": "display_data"
    }
   ],
   "source": [
    "train_df['label'].value_counts().plot.barh()"
   ]
  },
  {
   "cell_type": "code",
   "execution_count": 8,
   "metadata": {
    "colab": {},
    "colab_type": "code",
    "id": "jbTdKXF991AB"
   },
   "outputs": [],
   "source": [
    "from sklearn.preprocessing import label_binarize\n",
    "from sklearn.impute import KNNImputer, SimpleImputer\n",
    "from sklearn.preprocessing import RobustScaler, MinMaxScaler\n",
    "\n",
    "RANDOM_SEED = 42  "
   ]
  },
  {
   "cell_type": "code",
   "execution_count": 9,
   "metadata": {
    "colab": {},
    "colab_type": "code",
    "id": "p7rCO8W1-Vfc"
   },
   "outputs": [],
   "source": [
    "labels_raw_df = train_df.loc[:, train_df.columns == 'label']\n",
    "features_raw_df = train_df.drop(columns=['label'])"
   ]
  },
  {
   "cell_type": "code",
   "execution_count": 10,
   "metadata": {
    "colab": {},
    "colab_type": "code",
    "id": "utbl_I_s-AG1"
   },
   "outputs": [],
   "source": [
    "def preprocess_labels(input_labels_df):\n",
    "  labels_df = input_labels_df\n",
    "  labels_df = pd.DataFrame(label_binarize(labels_df, classes=['incorrrect', 'correct']))\n",
    "  \n",
    "  labels_df.columns = labels_df.columns\n",
    "  labels_df.index = labels_df.index\n",
    "\n",
    "  return labels_df  "
   ]
  },
  {
   "cell_type": "code",
   "execution_count": 11,
   "metadata": {
    "colab": {},
    "colab_type": "code",
    "id": "VIelf6WF0O1t"
   },
   "outputs": [],
   "source": [
    "labels_df = preprocess_labels(labels_raw_df)"
   ]
  },
  {
   "cell_type": "code",
   "execution_count": 31,
   "metadata": {
    "colab": {},
    "colab_type": "code",
    "id": "epQrAO2J0WCi"
   },
   "outputs": [],
   "source": [
    "def preprocess_features(input_features_df):\n",
    "    features_df = input_features_df.copy()\n",
    "    \n",
    "    numeric_cols = features_df.columns[features_df.dtypes != \"object\"].values\n",
    "    imputer = SimpleImputer(strategy='mean')\n",
    "    features_df[numeric_cols] = imputer.fit_transform(features_df[numeric_cols])\n",
    "    \n",
    "    #date time\n",
    "    features_df['pickup_time'] = pd.to_datetime(features_df['pickup_time'])\n",
    "    features_df['drop_time'] = pd.to_datetime(features_df['drop_time'])\n",
    "    \n",
    "    #duration\n",
    "    features_df['duration_fill'] = (features_df['drop_time'] - features_df['pickup_time']).dt.total_seconds()\n",
    "    features_df['duration'] = features_df['duration'].fillna(features_df['duration_fill'])\n",
    "    \n",
    "    features_df = features_df.drop(columns=['duration_fill'])\n",
    "\n",
    "    #travel time\n",
    "    features_df['travel_time'] = features_df['duration'] - features_df['meter_waiting']\n",
    "    \n",
    "    #waiting time\n",
    "    features_df['waiting_time'] = features_df['meter_waiting'] + features_df['meter_waiting_till_pickup']\n",
    "    \n",
    "    #distance fare\n",
    "    features_df['distance_fare'] = features_df['fare'] - features_df['meter_waiting_fare'] - features_df['additional_fare']\n",
    "   \n",
    "    #distance\n",
    "    features_df['manhattan_distance'] = abs(features_df['drop_lat'] - features_df['pick_lat']) + abs(features_df['drop_lon'] - features_df['pick_lon'])\n",
    "\n",
    "    #fare per distance unit\n",
    "    #features_df['fare_per_distance_unit'] = features_df['distance_fare']/features_df['manhattan_distance']\n",
    "    \n",
    "    #fare per time unit\n",
    "    #features_df['fare_per_time_unit'] = features_df['distance_fare']/features_df['manhattan_distance']\n",
    "    \n",
    "    #travel speed\n",
    "    #features_df['speed'] = features_df['manhattan_distance']/features_df['travel_time']\n",
    "    \n",
    "    #get day of the week\n",
    "    #features_df['pickup_day_of_week'] = features_df['pickup_time'].dt.day_name()\n",
    "    #features_df['drop_day_of_week'] = features_df['drop_time'].dt.day_name()\n",
    "    \n",
    "    features_df['pickup_hour_float'] = features_df['pickup_time'].dt.hour + features_df['pickup_time'].dt.minute/60\n",
    "    features_df['drop_hour_float'] = features_df['drop_time'].dt.hour + features_df['drop_time'].dt.minute/60\n",
    "\n",
    "    \n",
    "    #encode cyclic 24 hours with sin and cos\n",
    "    features_df['sin_pickup_time'] = np.sin(2*np.pi*features_df.pickup_hour_float/24.)\n",
    "    features_df['cos_pickup_time'] = np.cos(2*np.pi*features_df.pickup_hour_float/24.)\n",
    "\n",
    "    features_df['sin_drop_time'] = np.sin(2*np.pi*features_df.drop_hour_float/24.)\n",
    "    features_df['cos_drop_time'] = np.cos(2*np.pi*features_df.drop_hour_float/24.)\n",
    "    \n",
    "    #features_df = pd.get_dummies(features_df, columns = ['pickup_day_of_week', 'drop_day_of_week'])\n",
    "    \n",
    "    features_df = features_df.drop(columns=['pickup_time','drop_time', 'pickup_hour_float', 'drop_hour_float'])\n",
    "    \n",
    "    numeric_cols = features_df.columns[features_df.dtypes != \"object\"].values\n",
    "    \n",
    "    non_numeric_cols = features_df.columns[features_df.dtypes == \"object\"].values\n",
    "    \n",
    "    #numeric\n",
    "    scaler = RobustScaler()\n",
    "    features_df[numeric_cols] = scaler.fit_transform(features_df[numeric_cols])\n",
    "    \n",
    "    return features_df\n"
   ]
  },
  {
   "cell_type": "code",
   "execution_count": 32,
   "metadata": {
    "colab": {},
    "colab_type": "code",
    "id": "nhMgLx9o1DDc"
   },
   "outputs": [],
   "source": [
    "features_df = preprocess_features(features_raw_df)"
   ]
  },
  {
   "cell_type": "code",
   "execution_count": 33,
   "metadata": {
    "scrolled": true
   },
   "outputs": [
    {
     "data": {
      "text/html": [
       "<div>\n",
       "<style scoped>\n",
       "    .dataframe tbody tr th:only-of-type {\n",
       "        vertical-align: middle;\n",
       "    }\n",
       "\n",
       "    .dataframe tbody tr th {\n",
       "        vertical-align: top;\n",
       "    }\n",
       "\n",
       "    .dataframe thead th {\n",
       "        text-align: right;\n",
       "    }\n",
       "</style>\n",
       "<table border=\"1\" class=\"dataframe\">\n",
       "  <thead>\n",
       "    <tr style=\"text-align: right;\">\n",
       "      <th></th>\n",
       "      <th>additional_fare</th>\n",
       "      <th>duration</th>\n",
       "      <th>meter_waiting</th>\n",
       "      <th>meter_waiting_fare</th>\n",
       "      <th>meter_waiting_till_pickup</th>\n",
       "      <th>pickup_time</th>\n",
       "      <th>drop_time</th>\n",
       "      <th>pick_lat</th>\n",
       "      <th>pick_lon</th>\n",
       "      <th>drop_lat</th>\n",
       "      <th>drop_lon</th>\n",
       "      <th>fare</th>\n",
       "    </tr>\n",
       "    <tr>\n",
       "      <th>tripid</th>\n",
       "      <th></th>\n",
       "      <th></th>\n",
       "      <th></th>\n",
       "      <th></th>\n",
       "      <th></th>\n",
       "      <th></th>\n",
       "      <th></th>\n",
       "      <th></th>\n",
       "      <th></th>\n",
       "      <th></th>\n",
       "      <th></th>\n",
       "      <th></th>\n",
       "    </tr>\n",
       "  </thead>\n",
       "  <tbody>\n",
       "    <tr>\n",
       "      <th>189123628</th>\n",
       "      <td>10.5</td>\n",
       "      <td>834.0</td>\n",
       "      <td>56.0</td>\n",
       "      <td>0.0000</td>\n",
       "      <td>64.0</td>\n",
       "      <td>11/1/2019 0:20</td>\n",
       "      <td>11/1/2019 0:34</td>\n",
       "      <td>6.86252</td>\n",
       "      <td>79.8993</td>\n",
       "      <td>6.90330</td>\n",
       "      <td>79.8783</td>\n",
       "      <td>270.32</td>\n",
       "    </tr>\n",
       "    <tr>\n",
       "      <th>189125358</th>\n",
       "      <td>10.5</td>\n",
       "      <td>791.0</td>\n",
       "      <td>47.0</td>\n",
       "      <td>0.0000</td>\n",
       "      <td>134.0</td>\n",
       "      <td>11/1/2019 0:56</td>\n",
       "      <td>11/1/2019 1:09</td>\n",
       "      <td>6.88589</td>\n",
       "      <td>79.8984</td>\n",
       "      <td>6.91373</td>\n",
       "      <td>79.8923</td>\n",
       "      <td>197.85</td>\n",
       "    </tr>\n",
       "    <tr>\n",
       "      <th>189125719</th>\n",
       "      <td>10.5</td>\n",
       "      <td>1087.0</td>\n",
       "      <td>80.0</td>\n",
       "      <td>0.0000</td>\n",
       "      <td>61.0</td>\n",
       "      <td>11/1/2019 1:08</td>\n",
       "      <td>11/1/2019 1:26</td>\n",
       "      <td>6.90839</td>\n",
       "      <td>79.8651</td>\n",
       "      <td>6.93669</td>\n",
       "      <td>79.9146</td>\n",
       "      <td>301.64</td>\n",
       "    </tr>\n",
       "    <tr>\n",
       "      <th>189127273</th>\n",
       "      <td>10.5</td>\n",
       "      <td>598.0</td>\n",
       "      <td>271.0</td>\n",
       "      <td>15.6638</td>\n",
       "      <td>68.0</td>\n",
       "      <td>11/1/2019 2:27</td>\n",
       "      <td>11/1/2019 2:37</td>\n",
       "      <td>6.92570</td>\n",
       "      <td>79.8895</td>\n",
       "      <td>6.92748</td>\n",
       "      <td>79.8971</td>\n",
       "      <td>82.30</td>\n",
       "    </tr>\n",
       "    <tr>\n",
       "      <th>189128020</th>\n",
       "      <td>NaN</td>\n",
       "      <td>NaN</td>\n",
       "      <td>NaN</td>\n",
       "      <td>NaN</td>\n",
       "      <td>NaN</td>\n",
       "      <td>11/1/2019 3:34</td>\n",
       "      <td>11/1/2019 3:51</td>\n",
       "      <td>6.87441</td>\n",
       "      <td>79.8615</td>\n",
       "      <td>6.84478</td>\n",
       "      <td>79.9290</td>\n",
       "      <td>358.39</td>\n",
       "    </tr>\n",
       "    <tr>\n",
       "      <th>...</th>\n",
       "      <td>...</td>\n",
       "      <td>...</td>\n",
       "      <td>...</td>\n",
       "      <td>...</td>\n",
       "      <td>...</td>\n",
       "      <td>...</td>\n",
       "      <td>...</td>\n",
       "      <td>...</td>\n",
       "      <td>...</td>\n",
       "      <td>...</td>\n",
       "      <td>...</td>\n",
       "      <td>...</td>\n",
       "    </tr>\n",
       "    <tr>\n",
       "      <th>213803193</th>\n",
       "      <td>10.5</td>\n",
       "      <td>838.0</td>\n",
       "      <td>93.0</td>\n",
       "      <td>5.4219</td>\n",
       "      <td>451.0</td>\n",
       "      <td>1/31/2020 22:07</td>\n",
       "      <td>1/31/2020 22:21</td>\n",
       "      <td>7.29073</td>\n",
       "      <td>80.6367</td>\n",
       "      <td>7.28891</td>\n",
       "      <td>80.6557</td>\n",
       "      <td>198.26</td>\n",
       "    </tr>\n",
       "    <tr>\n",
       "      <th>213812756</th>\n",
       "      <td>10.5</td>\n",
       "      <td>2151.0</td>\n",
       "      <td>428.0</td>\n",
       "      <td>0.0000</td>\n",
       "      <td>39.0</td>\n",
       "      <td>1/31/2020 23:07</td>\n",
       "      <td>1/31/2020 23:43</td>\n",
       "      <td>6.90569</td>\n",
       "      <td>79.8516</td>\n",
       "      <td>6.95089</td>\n",
       "      <td>79.9389</td>\n",
       "      <td>581.23</td>\n",
       "    </tr>\n",
       "    <tr>\n",
       "      <th>213813930</th>\n",
       "      <td>10.5</td>\n",
       "      <td>263.0</td>\n",
       "      <td>9.0</td>\n",
       "      <td>0.0000</td>\n",
       "      <td>110.0</td>\n",
       "      <td>1/31/2020 23:21</td>\n",
       "      <td>1/31/2020 23:25</td>\n",
       "      <td>7.09210</td>\n",
       "      <td>79.9000</td>\n",
       "      <td>7.10135</td>\n",
       "      <td>79.9017</td>\n",
       "      <td>76.20</td>\n",
       "    </tr>\n",
       "    <tr>\n",
       "      <th>213815405</th>\n",
       "      <td>10.5</td>\n",
       "      <td>858.0</td>\n",
       "      <td>115.0</td>\n",
       "      <td>0.0000</td>\n",
       "      <td>317.0</td>\n",
       "      <td>1/31/2020 23:39</td>\n",
       "      <td>1/31/2020 23:53</td>\n",
       "      <td>6.94540</td>\n",
       "      <td>79.8768</td>\n",
       "      <td>6.93574</td>\n",
       "      <td>79.9010</td>\n",
       "      <td>133.31</td>\n",
       "    </tr>\n",
       "    <tr>\n",
       "      <th>213817296</th>\n",
       "      <td>10.5</td>\n",
       "      <td>262.0</td>\n",
       "      <td>21.0</td>\n",
       "      <td>1.2243</td>\n",
       "      <td>23.0</td>\n",
       "      <td>1/31/2020 23:49</td>\n",
       "      <td>1/31/2020 23:53</td>\n",
       "      <td>6.90257</td>\n",
       "      <td>79.9557</td>\n",
       "      <td>6.90823</td>\n",
       "      <td>79.9374</td>\n",
       "      <td>98.57</td>\n",
       "    </tr>\n",
       "  </tbody>\n",
       "</table>\n",
       "<p>17176 rows × 12 columns</p>\n",
       "</div>"
      ],
      "text/plain": [
       "           additional_fare  duration  meter_waiting  meter_waiting_fare  \\\n",
       "tripid                                                                    \n",
       "189123628             10.5     834.0           56.0              0.0000   \n",
       "189125358             10.5     791.0           47.0              0.0000   \n",
       "189125719             10.5    1087.0           80.0              0.0000   \n",
       "189127273             10.5     598.0          271.0             15.6638   \n",
       "189128020              NaN       NaN            NaN                 NaN   \n",
       "...                    ...       ...            ...                 ...   \n",
       "213803193             10.5     838.0           93.0              5.4219   \n",
       "213812756             10.5    2151.0          428.0              0.0000   \n",
       "213813930             10.5     263.0            9.0              0.0000   \n",
       "213815405             10.5     858.0          115.0              0.0000   \n",
       "213817296             10.5     262.0           21.0              1.2243   \n",
       "\n",
       "           meter_waiting_till_pickup      pickup_time        drop_time  \\\n",
       "tripid                                                                   \n",
       "189123628                       64.0   11/1/2019 0:20   11/1/2019 0:34   \n",
       "189125358                      134.0   11/1/2019 0:56   11/1/2019 1:09   \n",
       "189125719                       61.0   11/1/2019 1:08   11/1/2019 1:26   \n",
       "189127273                       68.0   11/1/2019 2:27   11/1/2019 2:37   \n",
       "189128020                        NaN   11/1/2019 3:34   11/1/2019 3:51   \n",
       "...                              ...              ...              ...   \n",
       "213803193                      451.0  1/31/2020 22:07  1/31/2020 22:21   \n",
       "213812756                       39.0  1/31/2020 23:07  1/31/2020 23:43   \n",
       "213813930                      110.0  1/31/2020 23:21  1/31/2020 23:25   \n",
       "213815405                      317.0  1/31/2020 23:39  1/31/2020 23:53   \n",
       "213817296                       23.0  1/31/2020 23:49  1/31/2020 23:53   \n",
       "\n",
       "           pick_lat  pick_lon  drop_lat  drop_lon    fare  \n",
       "tripid                                                     \n",
       "189123628   6.86252   79.8993   6.90330   79.8783  270.32  \n",
       "189125358   6.88589   79.8984   6.91373   79.8923  197.85  \n",
       "189125719   6.90839   79.8651   6.93669   79.9146  301.64  \n",
       "189127273   6.92570   79.8895   6.92748   79.8971   82.30  \n",
       "189128020   6.87441   79.8615   6.84478   79.9290  358.39  \n",
       "...             ...       ...       ...       ...     ...  \n",
       "213803193   7.29073   80.6367   7.28891   80.6557  198.26  \n",
       "213812756   6.90569   79.8516   6.95089   79.9389  581.23  \n",
       "213813930   7.09210   79.9000   7.10135   79.9017   76.20  \n",
       "213815405   6.94540   79.8768   6.93574   79.9010  133.31  \n",
       "213817296   6.90257   79.9557   6.90823   79.9374   98.57  \n",
       "\n",
       "[17176 rows x 12 columns]"
      ]
     },
     "execution_count": 33,
     "metadata": {},
     "output_type": "execute_result"
    }
   ],
   "source": [
    "features_raw_df"
   ]
  },
  {
   "cell_type": "code",
   "execution_count": 34,
   "metadata": {},
   "outputs": [
    {
     "name": "stdout",
     "output_type": "stream",
     "text": [
      "count     17176.000000\n",
      "mean       1702.858077\n",
      "std        8072.267835\n",
      "min           0.000000\n",
      "25%         552.000000\n",
      "50%        1027.000000\n",
      "75%        1786.000000\n",
      "max      453872.000000\n",
      "Name: duration, dtype: float64\n",
      "count     17176.000000\n",
      "mean       1073.783846\n",
      "std        1978.138919\n",
      "min     -210124.000000\n",
      "25%         449.000000\n",
      "50%         823.000000\n",
      "75%        1392.250000\n",
      "max       46609.000000\n",
      "Name: travel_time, dtype: float64\n",
      "count     17176.000000\n",
      "mean        741.541063\n",
      "std        8041.089036\n",
      "min           0.000000\n",
      "25%         117.000000\n",
      "50%         247.000000\n",
      "75%         509.000000\n",
      "max      454011.000000\n",
      "Name: waiting_time, dtype: float64\n",
      "count    17176.000000\n",
      "mean       266.878150\n",
      "std        292.477433\n",
      "min        -37.643641\n",
      "25%        107.446973\n",
      "50%        189.160000\n",
      "75%        329.332500\n",
      "max      13678.756200\n",
      "Name: distance_fare, dtype: float64\n",
      "count    17176.000000\n",
      "mean         0.056072\n",
      "std          0.581728\n",
      "min          0.000000\n",
      "25%          0.016880\n",
      "50%          0.036490\n",
      "75%          0.070175\n",
      "max         75.978030\n",
      "Name: manhattan_distance, dtype: float64\n"
     ]
    }
   ],
   "source": [
    "print(features_df['duration'].describe())\n",
    "print(features_df['travel_time'].describe())\n",
    "print(features_df['waiting_time'].describe())\n",
    "print(features_df['distance_fare'].describe())\n",
    "print(features_df['manhattan_distance'].describe())"
   ]
  },
  {
   "cell_type": "code",
   "execution_count": 18,
   "metadata": {
    "colab": {},
    "colab_type": "code",
    "id": "d6ut0tUDF-xR"
   },
   "outputs": [],
   "source": [
    "test_features_raw_df = pd.read_csv('../test.csv',index_col=\"tripid\")\n",
    "test_features_df = preprocess_features(test_features_raw_df)"
   ]
  },
  {
   "cell_type": "code",
   "execution_count": 19,
   "metadata": {},
   "outputs": [],
   "source": [
    "from sklearn.model_selection import train_test_split\n",
    "\n",
    "X_train, X_eval, y_train, y_eval = train_test_split(\n",
    "    features_df,\n",
    "    labels_df,\n",
    "    test_size=0.2,\n",
    "    shuffle=True,\n",
    "    stratify=labels_df,\n",
    "    random_state=RANDOM_SEED\n",
    ")"
   ]
  },
  {
   "cell_type": "code",
   "execution_count": 20,
   "metadata": {},
   "outputs": [],
   "source": [
    "import xgboost as xgb\n",
    "\n",
    "dtrain = xgb.DMatrix(X_train, label=y_train)\n",
    "deval = xgb.DMatrix(X_eval, label=y_eval)"
   ]
  },
  {
   "cell_type": "code",
   "execution_count": 21,
   "metadata": {},
   "outputs": [],
   "source": [
    "params = {'learning_rate': 0.5262175013357671, \n",
    "          'min_split_loss': 0.32445045578688614, \n",
    "          'n_estimators': 50, \n",
    "          'objective': 'binary:logistic', \n",
    "          'max_depth': 13, \n",
    "          'min_child_weight': 0.052451656450412054, \n",
    "          'max_delta_step': 0, \n",
    "          'subsample': 0.55402239400758, \n",
    "          'num_parallel_tree': 5, \n",
    "          'nthread': -1}"
   ]
  },
  {
   "cell_type": "code",
   "execution_count": 22,
   "metadata": {},
   "outputs": [],
   "source": [
    "model = xgb.train(params, dtrain, num_boost_round = 99)"
   ]
  },
  {
   "cell_type": "code",
   "execution_count": 23,
   "metadata": {},
   "outputs": [
    {
     "name": "stdout",
     "output_type": "stream",
     "text": [
      "F1 Score = 0.977312\n",
      "Macro F1 Score = 0.862997\n"
     ]
    }
   ],
   "source": [
    "y_pred = model.predict(xgb.DMatrix(X_eval))\n",
    "\n",
    "thresh = .5\n",
    "y_pred [y_pred > thresh] = 1\n",
    "y_pred [y_pred <= thresh] = 0\n",
    "\n",
    "from sklearn.metrics import f1_score\n",
    "\n",
    "print('F1 Score = {:.6f}'.format(f1_score(y_eval, y_pred)))\n",
    "print('Macro F1 Score = {:.6f}'.format(f1_score(y_eval, y_pred, average='macro')))"
   ]
  },
  {
   "cell_type": "code",
   "execution_count": 24,
   "metadata": {},
   "outputs": [],
   "source": [
    "def predict_test_set(model, test_features_df, submission_no):\n",
    "    thresh = 0.5\n",
    "    \n",
    "    test_pred = model.predict(xgb.DMatrix(test_features_df))\n",
    "    \n",
    "    test_pred [test_pred > thresh] = 1\n",
    "    test_pred [test_pred <= thresh] = 0\n",
    "    \n",
    "    submission_df = pd.read_csv('../sample_submission.csv',index_col=\"tripid\")\n",
    "    \n",
    "    # Make sure we have the rows in the same order\n",
    "    np.testing.assert_array_equal(test_features_df.index.values, submission_df.index.values)\n",
    "    \n",
    "    # Save predictions to submission data frame\n",
    "    submission_df[\"prediction\"] = test_pred\n",
    "    \n",
    "    submission_df['prediction'] = submission_df['prediction'].astype(int)\n",
    "\n",
    "    submission_df.to_csv(f'../submission{submission_no}.csv', index=True)"
   ]
  },
  {
   "cell_type": "code",
   "execution_count": 29,
   "metadata": {},
   "outputs": [],
   "source": [
    "predict_test_set(model, test_features_df, 10)"
   ]
  },
  {
   "cell_type": "code",
   "execution_count": 33,
   "metadata": {},
   "outputs": [],
   "source": [
    "feature_importnace = model.get_score(importance_type='gain')"
   ]
  },
  {
   "cell_type": "code",
   "execution_count": 28,
   "metadata": {},
   "outputs": [
    {
     "data": {
      "text/plain": [
       "<function matplotlib.pyplot.show(*args, **kw)>"
      ]
     },
     "execution_count": 28,
     "metadata": {},
     "output_type": "execute_result"
    },
    {
     "data": {
      "image/png": "[encoded data removed]",
      "text/plain": [
       "<Figure size 432x288 with 1 Axes>"
      ]
     },
     "metadata": {},
     "output_type": "display_data"
    }
   ],
   "source": [
    "import matplotlib.pyplot as plt\n",
    "plt.style.use('ggplot')\n",
    "\n",
    "plt.bar(range(len(feature_importnace)), list(feature_importnace.values()), align='center')\n",
    "plt.xticks(range(len(feature_importnace)), list(feature_importnace.keys()), rotation='vertical')\n",
    "\n",
    "plt.show"
   ]
  }
 ],
 "metadata": {
  "colab": {
   "name": "Fare Classification - XGBoost - Submission 5.ipynb",
   "provenance": []
  },
  "kernelspec": {
   "display_name": "Python 3",
   "language": "python",
   "name": "python3"
  },
  "language_info": {
   "codemirror_mode": {
    "name": "ipython",
    "version": 3
   },
   "file_extension": ".py",
   "mimetype": "text/x-python",
   "name": "python",
   "nbconvert_exporter": "python",
   "pygments_lexer": "ipython3",
   "version": "3.7.6"
  }
 },
 "nbformat": 4,
 "nbformat_minor": 1
}
